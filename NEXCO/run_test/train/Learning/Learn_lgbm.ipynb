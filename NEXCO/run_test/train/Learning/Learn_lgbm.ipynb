{
 "cells": [
  {
   "attachments": {},
   "cell_type": "markdown",
   "metadata": {},
   "source": [
    "# Make Data"
   ]
  },
  {
   "cell_type": "code",
   "execution_count": 69,
   "metadata": {},
   "outputs": [],
   "source": [
    "# ライブラリのインポート\n",
    "import os\n",
    "import random\n",
    "\n",
    "import pandas as pd\n",
    "import numpy as np\n",
    "from sklearn.metrics import mean_squared_error\n",
    "from sklearn.model_selection import train_test_split \n",
    "\n",
    "import lightgbm as lgb\n",
    "import pickle\n",
    "import warnings\n",
    "import gc\n",
    "\n",
    "from collections import Counter, defaultdict\n",
    "\n",
    "warnings.simplefilter('ignore')"
   ]
  },
  {
   "attachments": {},
   "cell_type": "markdown",
   "metadata": {},
   "source": [
    "## hide_function"
   ]
  },
  {
   "cell_type": "code",
   "execution_count": 70,
   "metadata": {},
   "outputs": [],
   "source": [
    "def read_data():\n",
    "    road = pd.read_csv(\"../road.csv\")\n",
    "\n",
    "    # 予測に要らない \"start_name\"と\"end_name\" を削除\n",
    "    road = road.drop([\"start_name\",\"end_name\"],axis=1)\n",
    "\n",
    "    # \"direction\"を数値に変換　（これはsubmitにも実装）\n",
    "    road = pd.get_dummies(road,drop_first=True)\n",
    "\n",
    "    search_data = pd.read_csv(\"../search_data.csv\")\n",
    "\n",
    "    # 時刻まで含まれているので、日付を取り出して\"date\"に格納\n",
    "    search_data[\"datetime\"] = pd.to_datetime(search_data[\"datetime\"]) \n",
    "    search_data[\"date\"] = search_data[\"datetime\"].dt.date\n",
    "    search_data[\"date\"] = pd.to_datetime(search_data[\"date\"]) \n",
    "\n",
    "    search_unspec_data = pd.read_csv(\"../search_unspec_data.csv\")\n",
    "    search_unspec_data[\"date\"] = pd.to_datetime(search_unspec_data[\"date\"]) \n",
    "\n",
    "    # \"date\",\"start_code\",\"end_code\"をキーとしてsearch_dataとマージ\n",
    "    merged_search_data = search_data.merge(search_unspec_data[[\"date\",\"start_code\",\"end_code\",\"search_unspec_1d\"]],on=[\"date\",\"start_code\",\"end_code\"],how=\"left\")\n",
    "\n",
    "    train = pd.read_csv(\"../train.csv\")\n",
    "    # 時刻まで含まれているので、日付を取り出して\"date\"に格納\n",
    "    train[\"datetime\"] = pd.to_datetime(train[\"datetime\"]) \n",
    "\n",
    "    # train と road をマージ\n",
    "    all_data = train.merge(road,on=[\"start_code\",\"end_code\"],how=\"left\")\n",
    "    # train_all と merged_search_data をマージ\n",
    "    all_data = all_data.merge(merged_search_data,on=[\"datetime\",\"start_code\",\"end_code\"],how=\"left\")\n",
    "\n",
    "    all_data = all_data.drop([\"date\"],axis=1)\n",
    "\n",
    "    return all_data"
   ]
  },
  {
   "cell_type": "code",
   "execution_count": 71,
   "metadata": {},
   "outputs": [],
   "source": [
    "# 日付などの処理\n",
    "import jpholiday\n",
    "import datetime as dt\n",
    "def DateFeatGen(data):\n",
    "    data[\"month\"] = data[\"datetime\"].dt.month\n",
    "    data[\"day\"] = data[\"datetime\"].dt.day\n",
    "    data[\"dayofweek\"] = data[\"datetime\"].dt.dayofweek\n",
    "    data[\"hour\"] = data[\"datetime\"].dt.hour\n",
    "    data[\"is_holiday\"] = data[\"datetime\"].map(jpholiday.is_holiday).astype(int)\n",
    "    return data"
   ]
  },
  {
   "cell_type": "code",
   "execution_count": 72,
   "metadata": {},
   "outputs": [],
   "source": [
    "def engineer_time_series_features(data):\n",
    "    outputs = [data]\n",
    "    grp_df = data.groupby(\"start_code\")[[\"OCC_1h_old\",\"allCars_1h_old\",\"search_1h_old\",\"speed_1h_old\"]]\n",
    "\n",
    "    for lag in range(1,6):\n",
    "        # shift\n",
    "        outputs.append(grp_df.shift(lag).add_prefix(f\"shift{lag}_\"))\n",
    "        # diff\n",
    "        outputs.append(grp_df.diff(lag).add_prefix(f\"diff{lag}_\"))\n",
    "\n",
    "    # rolling\n",
    "    for window in [3]:\n",
    "        tmp_df = grp_df.rolling(window, min_periods=1)\n",
    "        # 移動平均を取る\n",
    "        tmp_df = tmp_df.mean().add_prefix(f\"rolling{window}_mean_\")\n",
    "        outputs.append(tmp_df.reset_index(drop=True))\n",
    "\n",
    "    df = pd.concat(outputs, axis=1)\n",
    "    return df"
   ]
  },
  {
   "cell_type": "code",
   "execution_count": 73,
   "metadata": {},
   "outputs": [],
   "source": [
    "def TargetGenFunc(data):\n",
    "    data[\"OCC_1h_old\"] = data[\"OCC\"].copy()\n",
    "    data[\"search_1h_old\"] = data[\"search_1h\"].copy()\n",
    "    data[\"allCars_1h_old\"] = data[\"allCars\"].copy()\n",
    "    data[\"speed_1h_old\"] = data[\"speed\"].copy()\n",
    "\n",
    "    # 各目的変数の作成\n",
    "    data = (data.groupby(\"start_code\", group_keys=False).apply(lambda x: x.assign(speed = x[\"speed\"].shift(-1))))\n",
    "    data = (data.groupby(\"start_code\", group_keys=False).apply(lambda x: x.assign(OCC = x[\"OCC\"].shift(-1))))\n",
    "    data = (data.groupby(\"start_code\", group_keys=False).apply(lambda x: x.assign(search_1h = x[\"search_1h\"].shift(-1))))\n",
    "    data = (data.groupby(\"start_code\", group_keys=False).apply(lambda x: x.assign(allCars = x[\"allCars\"].shift(-1))))\n",
    "    return data"
   ]
  },
  {
   "cell_type": "code",
   "execution_count": 74,
   "metadata": {},
   "outputs": [],
   "source": [
    "from typing import Optional\n",
    "from collections import OrderedDict\n",
    "from lightgbm.callback import CallbackEnv\n",
    "from tqdm.auto import tqdm\n",
    "\n",
    "class LgbmProgressBarCallback:\n",
    "    description: Optional[str]\n",
    "    pbar: tqdm\n",
    "\n",
    "    def __init__(self, description: Optional[str] = None):\n",
    "        self.description = description\n",
    "        self.pbar = tqdm()\n",
    "\n",
    "    def __call__(self, env: CallbackEnv):\n",
    "\n",
    "        # 初回だけProgressBarを初期化する\n",
    "        is_first_iteration: bool = env.iteration == env.begin_iteration\n",
    "\n",
    "        if is_first_iteration:\n",
    "            total: int = env.end_iteration - env.begin_iteration\n",
    "            self.pbar.reset(total=total)\n",
    "            self.pbar.set_description(self.description, refresh=False)\n",
    "\n",
    "        # valid_setsの評価結果を更新\n",
    "        if len(env.evaluation_result_list) > 0:\n",
    "            # OrderedDictにしないと表示順がバラバラになって若干見にくい\n",
    "            postfix = OrderedDict(\n",
    "                [\n",
    "                    (f\"{entry[0]}:{entry[1]}\", str(entry[2]))\n",
    "                    for entry in env.evaluation_result_list\n",
    "                ]\n",
    "            )\n",
    "            self.pbar.set_postfix(ordered_dict=postfix, refresh=False)\n",
    "\n",
    "        # 進捗を1進める\n",
    "        self.pbar.update(1)\n",
    "        self.pbar.refresh()"
   ]
  },
  {
   "attachments": {},
   "cell_type": "markdown",
   "metadata": {},
   "source": [
    "## Train"
   ]
  },
  {
   "cell_type": "code",
   "execution_count": 75,
   "metadata": {},
   "outputs": [],
   "source": [
    "class CFG:\n",
    "    seed = 42\n",
    "    boosting_type = \"dart\"\n",
    "    metric = \"mse\""
   ]
  },
  {
   "cell_type": "code",
   "execution_count": 76,
   "metadata": {},
   "outputs": [],
   "source": [
    "def seed_everything(seed):\n",
    "    random.seed(seed)\n",
    "    np.random.seed(seed)\n",
    "    os.environ['PYTHONHASHSEED'] = str(seed)"
   ]
  },
  {
   "cell_type": "code",
   "execution_count": 77,
   "metadata": {},
   "outputs": [],
   "source": [
    "train = read_data()\n",
    "train = train[[\"datetime\",\"start_code\",\"OCC\",\"allCars\",\"speed\",\"KP\",\"limit_speed\",\"direction_下り\",\"search_1h\"]]\n",
    "train = train[train[\"allCars\"] != 0]\n",
    "train = DateFeatGen(train)\n",
    "train = TargetGenFunc(train)\n",
    "train = train.dropna(how=\"any\")\n",
    "train = engineer_time_series_features(train)"
   ]
  },
  {
   "cell_type": "code",
   "execution_count": 78,
   "metadata": {},
   "outputs": [],
   "source": [
    "def Inference_lgbm(train,target):\n",
    "    # Get feature list\n",
    "    features = [col for col in train.columns if col not in [\"datetime\",\"start_code\",\"speed\",\"allCars\",\"OCC\",\"search_1h\"]]\n",
    "    params = {\n",
    "        \"objective\":\"regression\",\n",
    "        \"metric\":CFG.metric,\n",
    "        \"boosting\": CFG.boosting_type,\n",
    "        \"seed\":CFG.seed,\n",
    "        \"num_leaves\":15,\n",
    "        \"max_depth\":7,\n",
    "        \"min_data_in_leaf\":20,\n",
    "        \"bagging_fraction\":0.8,\n",
    "        \"bagging_freq\":3,\n",
    "        \"feature_fraction\":0.9,\n",
    "        \"lambda_l1\":2,\n",
    "        \"lambda_l2\":2,\n",
    "        \"learning_rate\":0.01,\n",
    "        \"n_jobs\":-1,\n",
    "        \"force_col_wise\":True,\n",
    "        \"device\":\"gpu\",\n",
    "        \"verbosity\": -1\n",
    "        }\n",
    "        \n",
    "    X_train, X_valid, y_train, y_valid = train_test_split(train[features],train[f\"{target}\"],shuffle=True,random_state=CFG.seed)\n",
    "    lgb_train = lgb.Dataset(X_train,y_train)\n",
    "    lgb_valid = lgb.Dataset(X_valid,y_valid)\n",
    "    model = lgb.train(\n",
    "        params=params,\n",
    "        train_set=lgb_train,\n",
    "        num_boost_round=1000000,\n",
    "        valid_sets=[lgb_train,lgb_valid],\n",
    "        early_stopping_rounds=50,\n",
    "        callbacks=[LgbmProgressBarCallback(description=f\"LGBM for {target}\")]\n",
    "        )\n",
    "    file = f\"../../submit/model/{target}_lgbm_{CFG.seed}.pkl\"\n",
    "    pickle.dump(model, open(file, 'wb'))"
   ]
  },
  {
   "cell_type": "code",
   "execution_count": 79,
   "metadata": {},
   "outputs": [
    {
     "data": {
      "application/vnd.jupyter.widget-view+json": {
       "model_id": "e582d60343954dcda55059be93857fd4",
       "version_major": 2,
       "version_minor": 0
      },
      "text/plain": [
       "0it [00:00, ?it/s]"
      ]
     },
     "metadata": {},
     "output_type": "display_data"
    },
    {
     "ename": "KeyboardInterrupt",
     "evalue": "",
     "output_type": "error",
     "traceback": [
      "\u001b[1;31m---------------------------------------------------------------------------\u001b[0m",
      "\u001b[1;31mKeyboardInterrupt\u001b[0m                         Traceback (most recent call last)",
      "\u001b[1;32mc:\\Users\\rutai\\Documents\\NEXCO\\run_test\\train\\Learning\\Learn_lgbm.ipynb セル 14\u001b[0m in \u001b[0;36m<cell line: 2>\u001b[1;34m()\u001b[0m\n\u001b[0;32m      <a href='vscode-notebook-cell:/c%3A/Users/rutai/Documents/NEXCO/run_test/train/Learning/Learn_lgbm.ipynb#X15sZmlsZQ%3D%3D?line=0'>1</a>\u001b[0m seed_everything(CFG\u001b[39m.\u001b[39mseed)\n\u001b[1;32m----> <a href='vscode-notebook-cell:/c%3A/Users/rutai/Documents/NEXCO/run_test/train/Learning/Learn_lgbm.ipynb#X15sZmlsZQ%3D%3D?line=1'>2</a>\u001b[0m Inference_lgbm(train,\u001b[39m\"\u001b[39;49m\u001b[39mOCC\u001b[39;49m\u001b[39m\"\u001b[39;49m)\n",
      "\u001b[1;32mc:\\Users\\rutai\\Documents\\NEXCO\\run_test\\train\\Learning\\Learn_lgbm.ipynb セル 14\u001b[0m in \u001b[0;36mInference_lgbm\u001b[1;34m(train, target)\u001b[0m\n\u001b[0;32m     <a href='vscode-notebook-cell:/c%3A/Users/rutai/Documents/NEXCO/run_test/train/Learning/Learn_lgbm.ipynb#X15sZmlsZQ%3D%3D?line=24'>25</a>\u001b[0m lgb_train \u001b[39m=\u001b[39m lgb\u001b[39m.\u001b[39mDataset(X_train,y_train)\n\u001b[0;32m     <a href='vscode-notebook-cell:/c%3A/Users/rutai/Documents/NEXCO/run_test/train/Learning/Learn_lgbm.ipynb#X15sZmlsZQ%3D%3D?line=25'>26</a>\u001b[0m lgb_valid \u001b[39m=\u001b[39m lgb\u001b[39m.\u001b[39mDataset(X_valid,y_valid)\n\u001b[1;32m---> <a href='vscode-notebook-cell:/c%3A/Users/rutai/Documents/NEXCO/run_test/train/Learning/Learn_lgbm.ipynb#X15sZmlsZQ%3D%3D?line=26'>27</a>\u001b[0m model \u001b[39m=\u001b[39m lgb\u001b[39m.\u001b[39;49mtrain(\n\u001b[0;32m     <a href='vscode-notebook-cell:/c%3A/Users/rutai/Documents/NEXCO/run_test/train/Learning/Learn_lgbm.ipynb#X15sZmlsZQ%3D%3D?line=27'>28</a>\u001b[0m     params\u001b[39m=\u001b[39;49mparams,\n\u001b[0;32m     <a href='vscode-notebook-cell:/c%3A/Users/rutai/Documents/NEXCO/run_test/train/Learning/Learn_lgbm.ipynb#X15sZmlsZQ%3D%3D?line=28'>29</a>\u001b[0m     train_set\u001b[39m=\u001b[39;49mlgb_train,\n\u001b[0;32m     <a href='vscode-notebook-cell:/c%3A/Users/rutai/Documents/NEXCO/run_test/train/Learning/Learn_lgbm.ipynb#X15sZmlsZQ%3D%3D?line=29'>30</a>\u001b[0m     num_boost_round\u001b[39m=\u001b[39;49m\u001b[39m1000000\u001b[39;49m,\n\u001b[0;32m     <a href='vscode-notebook-cell:/c%3A/Users/rutai/Documents/NEXCO/run_test/train/Learning/Learn_lgbm.ipynb#X15sZmlsZQ%3D%3D?line=30'>31</a>\u001b[0m     valid_sets\u001b[39m=\u001b[39;49m[lgb_train,lgb_valid],\n\u001b[0;32m     <a href='vscode-notebook-cell:/c%3A/Users/rutai/Documents/NEXCO/run_test/train/Learning/Learn_lgbm.ipynb#X15sZmlsZQ%3D%3D?line=31'>32</a>\u001b[0m     early_stopping_rounds\u001b[39m=\u001b[39;49m\u001b[39m50\u001b[39;49m,\n\u001b[0;32m     <a href='vscode-notebook-cell:/c%3A/Users/rutai/Documents/NEXCO/run_test/train/Learning/Learn_lgbm.ipynb#X15sZmlsZQ%3D%3D?line=32'>33</a>\u001b[0m     callbacks\u001b[39m=\u001b[39;49m[LgbmProgressBarCallback(description\u001b[39m=\u001b[39;49m\u001b[39mf\u001b[39;49m\u001b[39m\"\u001b[39;49m\u001b[39mLGBM for \u001b[39;49m\u001b[39m{\u001b[39;49;00mtarget\u001b[39m}\u001b[39;49;00m\u001b[39m\"\u001b[39;49m)]\n\u001b[0;32m     <a href='vscode-notebook-cell:/c%3A/Users/rutai/Documents/NEXCO/run_test/train/Learning/Learn_lgbm.ipynb#X15sZmlsZQ%3D%3D?line=33'>34</a>\u001b[0m     )\n\u001b[0;32m     <a href='vscode-notebook-cell:/c%3A/Users/rutai/Documents/NEXCO/run_test/train/Learning/Learn_lgbm.ipynb#X15sZmlsZQ%3D%3D?line=34'>35</a>\u001b[0m file \u001b[39m=\u001b[39m \u001b[39mf\u001b[39m\u001b[39m\"\u001b[39m\u001b[39m../../submit/model/\u001b[39m\u001b[39m{\u001b[39;00mtarget\u001b[39m}\u001b[39;00m\u001b[39m_lgbm_\u001b[39m\u001b[39m{\u001b[39;00mCFG\u001b[39m.\u001b[39mseed\u001b[39m}\u001b[39;00m\u001b[39m.pkl\u001b[39m\u001b[39m\"\u001b[39m\n\u001b[0;32m     <a href='vscode-notebook-cell:/c%3A/Users/rutai/Documents/NEXCO/run_test/train/Learning/Learn_lgbm.ipynb#X15sZmlsZQ%3D%3D?line=35'>36</a>\u001b[0m pickle\u001b[39m.\u001b[39mdump(model, \u001b[39mopen\u001b[39m(file, \u001b[39m'\u001b[39m\u001b[39mwb\u001b[39m\u001b[39m'\u001b[39m))\n",
      "File \u001b[1;32mc:\\Users\\rutai\\anaconda3\\envs\\itomond\\lib\\site-packages\\lightgbm\\engine.py:292\u001b[0m, in \u001b[0;36mtrain\u001b[1;34m(params, train_set, num_boost_round, valid_sets, valid_names, fobj, feval, init_model, feature_name, categorical_feature, early_stopping_rounds, evals_result, verbose_eval, learning_rates, keep_training_booster, callbacks)\u001b[0m\n\u001b[0;32m    284\u001b[0m \u001b[39mfor\u001b[39;00m cb \u001b[39min\u001b[39;00m callbacks_before_iter:\n\u001b[0;32m    285\u001b[0m     cb(callback\u001b[39m.\u001b[39mCallbackEnv(model\u001b[39m=\u001b[39mbooster,\n\u001b[0;32m    286\u001b[0m                             params\u001b[39m=\u001b[39mparams,\n\u001b[0;32m    287\u001b[0m                             iteration\u001b[39m=\u001b[39mi,\n\u001b[0;32m    288\u001b[0m                             begin_iteration\u001b[39m=\u001b[39minit_iteration,\n\u001b[0;32m    289\u001b[0m                             end_iteration\u001b[39m=\u001b[39minit_iteration \u001b[39m+\u001b[39m num_boost_round,\n\u001b[0;32m    290\u001b[0m                             evaluation_result_list\u001b[39m=\u001b[39m\u001b[39mNone\u001b[39;00m))\n\u001b[1;32m--> 292\u001b[0m booster\u001b[39m.\u001b[39;49mupdate(fobj\u001b[39m=\u001b[39;49mfobj)\n\u001b[0;32m    294\u001b[0m evaluation_result_list \u001b[39m=\u001b[39m []\n\u001b[0;32m    295\u001b[0m \u001b[39m# check evaluation result.\u001b[39;00m\n",
      "File \u001b[1;32mc:\\Users\\rutai\\anaconda3\\envs\\itomond\\lib\\site-packages\\lightgbm\\basic.py:3021\u001b[0m, in \u001b[0;36mBooster.update\u001b[1;34m(self, train_set, fobj)\u001b[0m\n\u001b[0;32m   3019\u001b[0m \u001b[39mif\u001b[39;00m \u001b[39mself\u001b[39m\u001b[39m.\u001b[39m__set_objective_to_none:\n\u001b[0;32m   3020\u001b[0m     \u001b[39mraise\u001b[39;00m LightGBMError(\u001b[39m'\u001b[39m\u001b[39mCannot update due to null objective function.\u001b[39m\u001b[39m'\u001b[39m)\n\u001b[1;32m-> 3021\u001b[0m _safe_call(_LIB\u001b[39m.\u001b[39;49mLGBM_BoosterUpdateOneIter(\n\u001b[0;32m   3022\u001b[0m     \u001b[39mself\u001b[39;49m\u001b[39m.\u001b[39;49mhandle,\n\u001b[0;32m   3023\u001b[0m     ctypes\u001b[39m.\u001b[39;49mbyref(is_finished)))\n\u001b[0;32m   3024\u001b[0m \u001b[39mself\u001b[39m\u001b[39m.\u001b[39m__is_predicted_cur_iter \u001b[39m=\u001b[39m [\u001b[39mFalse\u001b[39;00m \u001b[39mfor\u001b[39;00m _ \u001b[39min\u001b[39;00m \u001b[39mrange\u001b[39m(\u001b[39mself\u001b[39m\u001b[39m.\u001b[39m__num_dataset)]\n\u001b[0;32m   3025\u001b[0m \u001b[39mreturn\u001b[39;00m is_finished\u001b[39m.\u001b[39mvalue \u001b[39m==\u001b[39m \u001b[39m1\u001b[39m\n",
      "\u001b[1;31mKeyboardInterrupt\u001b[0m: "
     ]
    }
   ],
   "source": [
    "seed_everything(CFG.seed)\n",
    "Inference_lgbm(train,\"OCC\")"
   ]
  },
  {
   "cell_type": "code",
   "execution_count": null,
   "metadata": {},
   "outputs": [],
   "source": [
    "Inference_lgbm(train,\"allCars\")"
   ]
  },
  {
   "cell_type": "code",
   "execution_count": null,
   "metadata": {},
   "outputs": [],
   "source": [
    "Inference_lgbm(train,\"search_1h\")"
   ]
  }
 ],
 "metadata": {
  "kernelspec": {
   "display_name": "Python 3",
   "language": "python",
   "name": "python3"
  },
  "language_info": {
   "codemirror_mode": {
    "name": "ipython",
    "version": 3
   },
   "file_extension": ".py",
   "mimetype": "text/x-python",
   "name": "python",
   "nbconvert_exporter": "python",
   "pygments_lexer": "ipython3",
   "version": "3.9.12"
  },
  "orig_nbformat": 4,
  "vscode": {
   "interpreter": {
    "hash": "5a13b78b610cf201cf30240481ed79cfa432f79a86710be44289e35818a0ec89"
   }
  }
 },
 "nbformat": 4,
 "nbformat_minor": 2
}
