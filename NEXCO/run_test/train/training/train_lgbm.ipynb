{
 "cells": [
  {
   "attachments": {},
   "cell_type": "markdown",
   "metadata": {},
   "source": [
    "# Make Data"
   ]
  },
  {
   "cell_type": "code",
   "execution_count": null,
   "metadata": {},
   "outputs": [],
   "source": [
    "# ライブラリのインポート\n",
    "import os\n",
    "import random\n",
    "\n",
    "import pandas as pd\n",
    "import numpy as np\n",
    "from sklearn.metrics import mean_squared_error\n",
    "from sklearn import model_selection  \n",
    "\n",
    "import lightgbm as lgb\n",
    "import pickle\n",
    "import warnings\n",
    "import gc\n",
    " \n",
    "from collections import Counter, defaultdict\n",
    "from function import feature_engineering\n",
    "from function import training_library\n",
    "warnings.simplefilter('ignore')\n",
    "\n",
    "# グラフ描画用\n",
    "import matplotlib.pyplot as plt\n",
    "import seaborn as sns\n",
    "%matplotlib inline\n",
    "sns.set_style('darkgrid')"
   ]
  },
  {
   "attachments": {},
   "cell_type": "markdown",
   "metadata": {},
   "source": [
    "## Train"
   ]
  },
  {
   "cell_type": "code",
   "execution_count": null,
   "metadata": {},
   "outputs": [],
   "source": [
    "class CFG:\n",
    "    seed = 42\n",
    "    n_folds = 5\n",
    "    boosting_type = \"dart\"\n",
    "    metric = \"mse\"\n",
    "    columns = []\n",
    "    \n",
    "def seed_everything(seed):\n",
    "    random.seed(seed)\n",
    "    np.random.seed(seed)\n",
    "    os.environ['PYTHONHASHSEED'] = str(seed)"
   ]
  },
  {
   "cell_type": "code",
   "execution_count": null,
   "metadata": {},
   "outputs": [],
   "source": [
    "def train_and_evaluate(target,save=False):\n",
    "    train = feature_engineering.read_data(target)\n",
    "    # Get feature list\n",
    "    features = [col for col in train.columns if col not in [\"datetime\",\"start_code\",\"section\",\"speed\",\"allcars\",\"OCC\",\"search_1h\"]]\n",
    "    params = {\n",
    "        \"objective\":\"regression\",\n",
    "        \"metric\":CFG.metric,\n",
    "        \"boosting\": CFG.boosting_type,\n",
    "        \"seed\":CFG.seed,\n",
    "        \"force_col_wise\":True,\n",
    "        \"device\":\"gpu\",\n",
    "        \"verbosity\": -1\n",
    "        }\n",
    "\n",
    "    # Create a numpy array to store out of folds predictions\n",
    "    oof_predictions = np.zeros(len(train))\n",
    "    models = []\n",
    "    gtss = training_library.GroupTimeSeriesSplit(n_splits=CFG.n_folds)\n",
    "    for fold, (trn_ind,val_ind) in enumerate(gtss.split(train,groups=train[\"section\"].to_numpy())):\n",
    "        print(\" \" )\n",
    "        print(\"-\"*50)\n",
    "        print(f\"Training fold {fold} with {len(features)} features...\")\n",
    "        x_train, x_val = train[features].iloc[trn_ind], train[features].iloc[val_ind]\n",
    "        y_train, y_val = train[f\"{target}\"].iloc[trn_ind], train[f\"{target}\"].iloc[val_ind]\n",
    "        lgb_train = lgb.Dataset(x_train,y_train)\n",
    "        lgb_valid = lgb.Dataset(x_val,y_val)\n",
    "        model = lgb.train(\n",
    "            params=params,\n",
    "            train_set=lgb_train,\n",
    "            num_boost_round=100000,\n",
    "            valid_sets=[lgb_train,lgb_valid],\n",
    "            early_stopping_rounds=50,\n",
    "            callbacks=[training_library.LgbmProgressBarCallback(description=f\"LGBM for {target}\")]\n",
    "            )\n",
    "\n",
    "        if save :\n",
    "            file = f\"../run_test/submit/model/{target}/{target}_lgbm_{CFG.seed}_{fold}.pkl\"\n",
    "            pickle.dump(model, open(file, 'wb'))\n",
    "\n",
    "        # Predict validation\n",
    "        val_pred = model.predict(x_val)\n",
    "        # Add to out of folds array\n",
    "        oof_predictions[val_ind] = val_pred\n",
    "        # Compute fold metric\n",
    "        score = np.sqrt(mean_squared_error(y_val,val_pred))\n",
    "        print(f\"Our fold {fold} CV score is {score}\")\n",
    "        del x_train, x_val, y_train, y_val, lgb_train, lgb_valid\n",
    "        gc.collect()\n",
    "\n",
    "        models.append(model)\n",
    "\n",
    "    # Compute out of folds metric\n",
    "    score = np.sqrt(mean_squared_error(train[f\"{target}\"],oof_predictions))\n",
    "    print(f\"Our out of folds CV score is {score}\")\n",
    "\n",
    "    # # 日付時刻、変数A、変数Bを含むDataframe形式のデータを作成\n",
    "    # data = {\"datetime\": train[\"datetime\"],\n",
    "    #         f\"{target}\": train[f\"{target}\"],\n",
    "    #         \"pred\": oof_predictions}\n",
    "    # df = pd.DataFrame(data)\n",
    "\n",
    "    # # 折れ線グラフを作成\n",
    "    # plt.figure(figsize=(50,10))\n",
    "    # plt.plot(df[\"datetime\"],df[f\"{target}\"],label=f\"{target}\")\n",
    "    # plt.plot(df[\"datetime\"],df[\"pred\"],label=\"pred\")\n",
    "\n",
    "    # # X軸、Y軸のラベルを設定\n",
    "    # plt.xlabel(\"Datetime\")\n",
    "    # plt.ylabel(\"Value\")\n",
    "\n",
    "    # # 凡例を表示\n",
    "    # plt.legend()\n",
    "\n",
    "    # 特徴量重要度を保管する dataframe を用意\n",
    "    feature_importances = pd.DataFrame()\n",
    "\n",
    "    for fold, model in enumerate(models):\n",
    "\n",
    "        tmp = pd.DataFrame()\n",
    "        tmp['feature'] = model.feature_name()\n",
    "        tmp['importance'] = model.feature_importance(importance_type='gain')\n",
    "        tmp['fold'] = fold\n",
    "\n",
    "        feature_importances = feature_importances.append(tmp)\n",
    "\n",
    "    FeatImportance = pd.DataFrame(feature_importances.groupby(\"feature\")[\"importance\"].mean().sort_values(ascending=False))\n",
    "    # 重要度が100より大きいものだけ抜き出す\n",
    "    FeatImportance = FeatImportance[FeatImportance[\"importance\"]>100]\n",
    "\n",
    "    # 可視化\n",
    "    display(FeatImportance)\n",
    "\n",
    "    return FeatImportance"
   ]
  },
  {
   "cell_type": "code",
   "execution_count": null,
   "metadata": {},
   "outputs": [],
   "source": [
    "seed_everything(CFG.seed)\n",
    "# FeatImportance_OCC = train_and_evaluate(\"OCC\",save=False)"
   ]
  },
  {
   "cell_type": "code",
   "execution_count": null,
   "metadata": {},
   "outputs": [],
   "source": [
    "FeatImportance_allCars = train_and_evaluate(\"allCars\",save=False)"
   ]
  },
  {
   "cell_type": "code",
   "execution_count": null,
   "metadata": {},
   "outputs": [],
   "source": [
    "FeatImportance_search_1h = train_and_evaluate(\"search_1h\",save=False)"
   ]
  }
 ],
 "metadata": {
  "kernelspec": {
   "display_name": "Python 3",
   "language": "python",
   "name": "python3"
  },
  "language_info": {
   "codemirror_mode": {
    "name": "ipython",
    "version": 3
   },
   "file_extension": ".py",
   "mimetype": "text/x-python",
   "name": "python",
   "nbconvert_exporter": "python",
   "pygments_lexer": "ipython3",
   "version": "3.9.12"
  },
  "orig_nbformat": 4,
  "vscode": {
   "interpreter": {
    "hash": "5a13b78b610cf201cf30240481ed79cfa432f79a86710be44289e35818a0ec89"
   }
  }
 },
 "nbformat": 4,
 "nbformat_minor": 2
}
