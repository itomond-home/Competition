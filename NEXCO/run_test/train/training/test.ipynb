{
 "cells": [
  {
   "cell_type": "code",
   "execution_count": 100,
   "metadata": {},
   "outputs": [],
   "source": [
    "import pandas as pd\n",
    "import datetime as dt\n",
    "import numpy as np\n",
    "import pickle\n",
    "import jpholiday\n",
    "from tqdm import tqdm"
   ]
  },
  {
   "cell_type": "code",
   "execution_count": 101,
   "metadata": {},
   "outputs": [],
   "source": [
    "road = pd.read_csv(\"../road.csv\")\n",
    "\n",
    "# 予測に要らない \"start_name\"と\"end_name\" を削除\n",
    "road = road.drop([\"start_name\",\"end_name\"],axis=1)\n",
    "\n",
    "# \"direction\"を数値に変換　（これはsubmitにも実装）\n",
    "# road = pd.get_dummies(road,drop_first=True)\n",
    "\n",
    "search_data = pd.read_csv(\"../search_data.csv\")\n",
    "\n",
    "# 時刻まで含まれているので、日付を取り出して\"date\"に格納\n",
    "search_data[\"datetime\"] = pd.to_datetime(search_data[\"datetime\"]) \n",
    "search_data[\"date\"] = search_data[\"datetime\"].dt.date\n",
    "search_data[\"date\"] = pd.to_datetime(search_data[\"date\"]) \n",
    "\n",
    "search_unspec_data = pd.read_csv(\"../search_unspec_data.csv\")\n",
    "search_unspec_data[\"date\"] = pd.to_datetime(search_unspec_data[\"date\"]) \n",
    "\n",
    "# \"date\",\"start_code\",\"end_code\"をキーとしてsearch_dataとマージ\n",
    "merged_search_data = search_data.merge(search_unspec_data[[\"date\",\"start_code\",\"end_code\",\"search_unspec_1d\"]],on=[\"date\",\"start_code\",\"end_code\"],how=\"left\")\n",
    "\n",
    "train = pd.read_csv(\"../train.csv\")\n",
    "# 時刻まで含まれているので、日付を取り出して\"date\"に格納\n",
    "train[\"datetime\"] = pd.to_datetime(train[\"datetime\"]) \n",
    "\n",
    "# train と road をマージ\n",
    "all_data = train.merge(road,on=[\"start_code\",\"end_code\"],how=\"left\")\n",
    "# train_all と merged_search_data をマージ\n",
    "all_data = all_data.merge(merged_search_data,on=[\"datetime\",\"start_code\",\"end_code\"],how=\"left\")\n",
    "\n",
    "all_data = all_data.drop([\"date\"],axis=1)"
   ]
  },
  {
   "cell_type": "code",
   "execution_count": 102,
   "metadata": {},
   "outputs": [],
   "source": [
    "data = all_data[all_data[\"datetime\"]<dt.datetime(2021,4,9)]"
   ]
  },
  {
   "cell_type": "code",
   "execution_count": 103,
   "metadata": {},
   "outputs": [],
   "source": [
    "allCars_model = pickle.load(open(\"../../submit/model/allcars_lgbm_42.pkl\", \"rb\"))\n",
    "OCC_model = pickle.load(open(\"../../submit/model/OCC_lgbm_42.pkl\", \"rb\"))\n",
    "search_1h_model = pickle.load(open(\"../../submit/model/search_1h_lgbm_42.pkl\", \"rb\"))\n",
    "speed_model = pickle.load(open(\"../../submit/model/speed_lgbm_42.pkl\", \"rb\"))"
   ]
  },
  {
   "cell_type": "code",
   "execution_count": 104,
   "metadata": {},
   "outputs": [],
   "source": [
    "def DateFeatGen(data):\n",
    "    # 日付などの処理\n",
    "    data[\"month\"] = data[\"datetime\"].dt.month\n",
    "    data[\"day\"] = data[\"datetime\"].dt.day\n",
    "    data[\"dayofweek\"] = data[\"datetime\"].dt.dayofweek\n",
    "    data[\"hour\"] = data[\"datetime\"].dt.hour\n",
    "    data[\"is_holiday\"] = data[\"datetime\"].map(jpholiday.is_holiday).astype(int)\n",
    "    return data"
   ]
  },
  {
   "cell_type": "code",
   "execution_count": 105,
   "metadata": {},
   "outputs": [],
   "source": [
    "def engineer_time_series_features(data):\n",
    "    outputs = [data]\n",
    "    grp_df = data.groupby(\"start_code\")[[\"OCC_1h_old\",\"allCars_1h_old\",\"search_1h_old\",\"speed_1h_old\"]]\n",
    "\n",
    "    for lag in range(1,6):\n",
    "        # shift\n",
    "        outputs.append(grp_df.shift(lag).add_prefix(f'shift{lag}_'))\n",
    "        # diff\n",
    "        outputs.append(grp_df.diff(lag).add_prefix(f'diff{lag}_'))\n",
    "\n",
    "    # rolling\n",
    "    for window in [3]:\n",
    "        tmp_df = grp_df.rolling(window, min_periods=1)\n",
    "        # 移動平均を取る\n",
    "        tmp_df = tmp_df.mean().add_prefix(f'rolling{window}_mean_')\n",
    "        outputs.append(tmp_df.reset_index(drop=True))\n",
    "\n",
    "    df = pd.concat(outputs, axis=1)\n",
    "    return df"
   ]
  },
  {
   "cell_type": "code",
   "execution_count": 106,
   "metadata": {},
   "outputs": [],
   "source": [
    "input = data[[\"datetime\",\"start_code\",\"end_code\",\"OCC\",\"allCars\",\"speed\",\"KP\",\"limit_speed\",\"direction\",\"search_1h\"]]\n",
    "train = train[train[\"allCars\"] != 0]\n",
    "input = pd.get_dummies(input, drop_first=True)"
   ]
  },
  {
   "cell_type": "code",
   "execution_count": 107,
   "metadata": {},
   "outputs": [
    {
     "name": "stdout",
     "output_type": "stream",
     "text": [
      "start_code is1110210, end_code is 1800006\n",
      "['OCC', 'allCars', 'KP', 'limit_speed', 'search_1h', 'direction_下り', 'OCC_1h_old', 'allCars_1h_old', 'search_1h_old', 'speed_1h_old', 'shift1_OCC_1h_old', 'shift1_allCars_1h_old', 'shift1_search_1h_old', 'shift1_speed_1h_old', 'diff1_OCC_1h_old', 'diff1_allCars_1h_old', 'diff1_search_1h_old', 'diff1_speed_1h_old', 'shift2_OCC_1h_old', 'shift2_allCars_1h_old', 'shift2_search_1h_old', 'shift2_speed_1h_old', 'diff2_OCC_1h_old', 'diff2_allCars_1h_old', 'diff2_search_1h_old', 'diff2_speed_1h_old', 'shift3_OCC_1h_old', 'shift3_allCars_1h_old', 'shift3_search_1h_old', 'shift3_speed_1h_old', 'diff3_OCC_1h_old', 'diff3_allCars_1h_old', 'diff3_search_1h_old', 'diff3_speed_1h_old', 'shift4_OCC_1h_old', 'shift4_allCars_1h_old', 'shift4_search_1h_old', 'shift4_speed_1h_old', 'diff4_OCC_1h_old', 'diff4_allCars_1h_old', 'diff4_search_1h_old', 'diff4_speed_1h_old', 'shift5_OCC_1h_old', 'shift5_allCars_1h_old', 'shift5_search_1h_old', 'shift5_speed_1h_old', 'diff5_OCC_1h_old', 'diff5_allCars_1h_old', 'diff5_search_1h_old', 'diff5_speed_1h_old', 'rolling3_mean_OCC_1h_old', 'rolling3_mean_allCars_1h_old', 'rolling3_mean_search_1h_old', 'rolling3_mean_speed_1h_old', 'month', 'day', 'dayofweek', 'hour', 'is_holiday']\n"
     ]
    }
   ],
   "source": [
    "# 予測をまとめるリストを作成\n",
    "predictions = []\n",
    "# \"start_code\" と \"end_code\" を１組として、順に処理していく\n",
    "for start_end in input[[\"start_code\", \"end_code\"]].drop_duplicates().values:\n",
    "    print(f\"start_code is{start_end[0]}, end_code is {start_end[1]}\")\n",
    "\n",
    "    # \"start_code\" と \"end_code\" が同じデータのみに絞る つまりデータが24行になる\n",
    "    data = input[(input[\"start_code\"]==start_end[0]) & (input[\"end_code\"]==start_end[1])].copy()\n",
    "\n",
    "    # -23~0まで24時間分、以下を繰り返す\n",
    "    for h in range(-23, 1): \n",
    "\n",
    "        # 直近24時間分にする\n",
    "        data_tmp = data[-24:].copy()\n",
    "        \n",
    "        # 現時刻のデータを１時間古いものとする（speed予測時のため）\n",
    "        data_tmp[\"OCC_1h_old\"] = data_tmp[\"OCC\"].copy()\n",
    "        data_tmp[\"allCars_1h_old\"] = data_tmp[\"allCars\"].copy()\n",
    "        data_tmp[\"search_1h_old\"] = data_tmp[\"search_1h\"].copy()\n",
    "        data_tmp[\"speed_1h_old\"] = data_tmp[\"speed\"].copy()\n",
    "\n",
    "        # ラグ特徴量を生成する\n",
    "        data_tmp = engineer_time_series_features(data_tmp)\n",
    "\n",
    "        # 最後の時間のデータのみにする\n",
    "        data_tmp = data_tmp[-1:].copy()\n",
    "        # 日付を１日ずらして、データを再生成\n",
    "        data_tmp[\"datetime\"] += dt.timedelta(hours=1)\n",
    "        # 提出用のデータ登録\n",
    "        Onecode_pred = [(data_tmp[\"datetime\"]).values[0],start_end[0],start_end[1]]\n",
    "        \n",
    "        # 日付の特徴量生成    \n",
    "        data_tmp = DateFeatGen(data_tmp)\n",
    "\n",
    "        # １時間後の\"OCC\",\"allCars\",\"search_1h\"を予測、格納\n",
    "        unused_variable_names = [\"datetime\",\"inference_date\",\"start_code\",\"end_code\",\"OCC\",\"allCars\",\"search_1h\",\"speed\"]\n",
    "        data_tmp[\"OCC\"] = 0 # OCC_model.predict(data_tmp[[col for col in data_tmp.columns if col not in unused_variable_names+[\"OCC\"]]])\n",
    "        data_tmp[\"allCars\"] = 0 # allCars_model.predict(data_tmp[[col for col in data_tmp.columns if col not in unused_variable_names+[\"allCars\"]]])\n",
    "        data_tmp[\"search_1h\"] = 0 # search_1h_model.predict(data_tmp[[col for col in data_tmp.columns if col not in unused_variable_names+[\"search_1h\"]]])  \n",
    "\n",
    "        data_tmp = DateFeatGen(data_tmp)\n",
    "        # 現時刻の\"speed\"を予測、格納\n",
    "        unused_variable_names = [\"datetime\",\"inference_date\",\"start_code\",\"end_code\",\"speed\"]\n",
    "        pred_speed = 0 # speed_model.predict(data_tmp[[col for col in data_tmp.columns if col not in unused_variable_names]])  \n",
    "        data_tmp[\"speed\"] = pred_speed\n",
    "\n",
    "        # 提出用データに格納\n",
    "        Onecode_pred.append(pred_speed)\n",
    "        # 大元の提出用データに格納\n",
    "        predictions.append(Onecode_pred)\n",
    "        # 新しい時刻をマージ\n",
    "        data = pd.concat([data,data_tmp])\n",
    "        # 予測に使う変数はいったん捨てる\n",
    "        data = data.drop([\"month\",\"day\",\"dayofweek\",\"hour\",\"is_holiday\",\"OCC_1h_old\",\"allCars_1h_old\",\"search_1h_old\",\"speed_1h_old\"],axis=1).reset_index(drop=True)\n",
    "prediction = pd.DataFrame(predictions,columns=[\"datetime\",\"start_code\",\"end_code\",\"prediction\"])\n",
    "prediction[\"datetime\"] -= dt.timedelta(days=1)"
   ]
  },
  {
   "cell_type": "code",
   "execution_count": 108,
   "metadata": {},
   "outputs": [
    {
     "data": {
      "text/html": [
       "<div>\n",
       "<style scoped>\n",
       "    .dataframe tbody tr th:only-of-type {\n",
       "        vertical-align: middle;\n",
       "    }\n",
       "\n",
       "    .dataframe tbody tr th {\n",
       "        vertical-align: top;\n",
       "    }\n",
       "\n",
       "    .dataframe thead th {\n",
       "        text-align: right;\n",
       "    }\n",
       "</style>\n",
       "<table border=\"1\" class=\"dataframe\">\n",
       "  <thead>\n",
       "    <tr style=\"text-align: right;\">\n",
       "      <th></th>\n",
       "      <th>datetime</th>\n",
       "      <th>start_code</th>\n",
       "      <th>end_code</th>\n",
       "      <th>prediction</th>\n",
       "    </tr>\n",
       "  </thead>\n",
       "  <tbody>\n",
       "  </tbody>\n",
       "</table>\n",
       "</div>"
      ],
      "text/plain": [
       "Empty DataFrame\n",
       "Columns: [datetime, start_code, end_code, prediction]\n",
       "Index: []"
      ]
     },
     "execution_count": 108,
     "metadata": {},
     "output_type": "execute_result"
    }
   ],
   "source": [
    "prediction"
   ]
  }
 ],
 "metadata": {
  "kernelspec": {
   "display_name": "Python 3",
   "language": "python",
   "name": "python3"
  },
  "language_info": {
   "codemirror_mode": {
    "name": "ipython",
    "version": 3
   },
   "file_extension": ".py",
   "mimetype": "text/x-python",
   "name": "python",
   "nbconvert_exporter": "python",
   "pygments_lexer": "ipython3",
   "version": "3.9.12"
  },
  "orig_nbformat": 4,
  "vscode": {
   "interpreter": {
    "hash": "5a13b78b610cf201cf30240481ed79cfa432f79a86710be44289e35818a0ec89"
   }
  }
 },
 "nbformat": 4,
 "nbformat_minor": 2
}
