{
 "cells": [
  {
   "attachments": {},
   "cell_type": "markdown",
   "metadata": {},
   "source": [
    "# LightGBM の実装"
   ]
  },
  {
   "cell_type": "code",
   "execution_count": 1,
   "metadata": {},
   "outputs": [],
   "source": [
    "# ====================================================\n",
    "# Library\n",
    "# ====================================================\n",
    "import os\n",
    "import gc\n",
    "import datetime\n",
    "import warnings\n",
    "warnings.filterwarnings('ignore')\n",
    "import random\n",
    "import numpy as np\n",
    "import pandas as pd\n",
    "from pathlib import Path\n",
    "import pickle\n",
    "\n",
    "from sklearn.model_selection import KFold\n",
    "from sklearn.metrics import mean_squared_error\n",
    "\n",
    "import lightgbm as lgb\n",
    "import xgboost as xgb\n",
    "from catboost import CatBoostRegressor"
   ]
  },
  {
   "cell_type": "code",
   "execution_count": 2,
   "metadata": {},
   "outputs": [
    {
     "name": "stdout",
     "output_type": "stream",
     "text": [
      "mkdir: oof: File exists\n",
      "mkdir: models: File exists\n"
     ]
    }
   ],
   "source": [
    "!mkdir oof\n",
    "!mkdir models"
   ]
  },
  {
   "cell_type": "code",
   "execution_count": 3,
   "metadata": {},
   "outputs": [],
   "source": [
    "# ====================================================\n",
    "# Configurations\n",
    "# ====================================================\n",
    "class CFG:\n",
    "    DATA_PATH = Path('.')\n",
    "    OOF_DATA_PATH = Path('./oof')\n",
    "    MODEL_DATA_PATH = Path('./models')\n",
    "    METHOD_LIST = ['catboost', 'lightgbm']\n",
    "    seed = random.randint(0, 100)\n",
    "    n_folds = 10\n",
    "    target_col = 'attendance'\n",
    "    USE_PLAYER_FEATURES = False\n",
    "    num_boost_round = 50500\n",
    "    early_stopping_round = 500\n",
    "    verbose = 2000\n",
    "    boosting_type = 'dart'\n",
    "    lgb_params = {\n",
    "        'objective':'regression',\n",
    "        'metric': 'rmse',\n",
    "        'boosting': 'dart',\n",
    "        'n_jobs': -1,\n",
    "        'seed': seed,\n",
    "        'feature_pre_filter': False,\n",
    "        'lambda_l1': 0.0,\n",
    "        'lambda_l2': 0.0,\n",
    "        'num_leaves': 4,\n",
    "        'feature_fraction': 0.9159999999999999,\n",
    "        'bagging_fraction': 0.808098964054993,\n",
    "        'bagging_freq': 1,\n",
    "        'min_child_samples': 20,\n",
    "        }\n",
    "    cat_params = {\n",
    "        'loss_function': 'RMSE',\n",
    "        'iterations': num_boost_round,\n",
    "        'random_seed': seed,\n",
    "        }"
   ]
  },
  {
   "cell_type": "code",
   "execution_count": 4,
   "metadata": {},
   "outputs": [],
   "source": [
    "# ====================================================\n",
    "# Seed everything\n",
    "# ====================================================\n",
    "def seed_everything(seed):\n",
    "    random.seed(seed)\n",
    "    np.random.seed(seed)\n",
    "    os.environ['PYTHONHASHSEED'] = str(seed)\n",
    "seed_everything(CFG.seed)"
   ]
  },
  {
   "cell_type": "code",
   "execution_count": 5,
   "metadata": {},
   "outputs": [],
   "source": [
    "# ====================================================\n",
    "# LightGBM Metric\n",
    "# ====================================================\n",
    "def lgb_metric(y_pred, y_true):\n",
    "    y_true = y_true.get_label()\n",
    "    return 'rmse', np.sqrt(mean_squared_error(y_true, y_pred)), False\n",
    "\n",
    "# ====================================================\n",
    "# Catboost Metric\n",
    "# ====================================================\n",
    "class CatboostMetric(object):\n",
    "    def get_final_error(self, error, weight): return error\n",
    "    def is_max_optimal(self): return False\n",
    "    def evaluate(self, approxes, target, weight):\n",
    "        error = np.sqrt(mean_squared_error(np.array(target), approxes))\n",
    "        return error, 0"
   ]
  },
  {
   "cell_type": "code",
   "execution_count": 6,
   "metadata": {},
   "outputs": [],
   "source": [
    "def lightgbm_training(x_train: pd.DataFrame, y_train: pd.DataFrame, x_valid: pd.DataFrame, y_valid: pd.DataFrame):\n",
    "    # Apply the encoding map to the relevant columns\n",
    "    categorical_cols = x_train.select_dtypes(include=['object']).columns.tolist()\n",
    "\n",
    "    # Create LightGBM datasets\n",
    "    train_data = lgb.Dataset(x_train, label=y_train, categorical_feature=categorical_cols)\n",
    "    valid_data = lgb.Dataset(x_valid, label=y_valid, categorical_feature=categorical_cols)\n",
    "\n",
    "    # Train model\n",
    "    model = lgb.train(\n",
    "        params=CFG.lgb_params,\n",
    "        train_set=train_data,\n",
    "        num_boost_round=20000,\n",
    "        valid_sets=[valid_data],\n",
    "        callbacks=[lgb.early_stopping(CFG.early_stopping_round, verbose=True), lgb.log_evaluation(CFG.verbose)]\n",
    "        )\n",
    "\n",
    "    # Predict validation\n",
    "    valid_pred = model.predict(x_valid)\n",
    "    return model, valid_pred\n",
    "\n",
    "def catboost_training(x_train: pd.DataFrame, y_train: pd.DataFrame, x_valid: pd.DataFrame, y_valid: pd.DataFrame, categorical_features: list):\n",
    "    # Define model\n",
    "    model = CatBoostRegressor(**CFG.cat_params, cat_features=categorical_features)\n",
    "\n",
    "    # Fit model\n",
    "    model.fit(x_train, y_train, eval_set=[(x_valid, y_valid)], early_stopping_rounds=CFG.early_stopping_round, verbose=CFG.verbose)\n",
    "\n",
    "    # Predict validation\n",
    "    valid_pred = model.predict(x_valid)\n",
    "\n",
    "    return model, valid_pred\n",
    "\n",
    "def gradient_boosting_model_cv_training(method: str, train_df: pd.DataFrame, features: list, categorical_features: list):\n",
    "    # Create a numpy array to store out of folds predictions\n",
    "    oof_predictions = np.zeros(len(train_df))\n",
    "    oof_fold = np.zeros(len(train_df))\n",
    "    kfold = KFold(n_splits=CFG.n_folds, shuffle=True, random_state=CFG.seed)\n",
    "    for fold, (train_index, valid_index) in enumerate(kfold.split(train_df, train_df[CFG.target_col])):\n",
    "        print('-'*50)\n",
    "        print(f'{method} training fold {fold + 1}')\n",
    "        x_train = train_df[features].iloc[train_index]\n",
    "        y_train = train_df[CFG.target_col].iloc[train_index]\n",
    "        x_valid = train_df[features].iloc[valid_index]\n",
    "        y_valid = train_df[CFG.target_col].iloc[valid_index]\n",
    "        if method == 'lightgbm':\n",
    "            model, valid_pred = lightgbm_training(x_train, y_train, x_valid, y_valid)\n",
    "        if method == 'catboost':\n",
    "            model, valid_pred = catboost_training(x_train, y_train, x_valid, y_valid, categorical_features)\n",
    "\n",
    "        # Save best model\n",
    "        pickle.dump(model, open(CFG.MODEL_DATA_PATH / f'{method}_fold{fold + 1}_seed{CFG.seed}_ver{CFG.boosting_type}.pkl', 'wb'))\n",
    "        # Save encoders only for lightgbm and xgboost\n",
    "        # if method in ['lightgbm', 'xgboost']:\n",
    "        #     pickle.dump(encoders[fold], open(CFG.MODEL_DATA_PATH / f'{method}_encoders_fold{fold + 1}_seed{CFG.seed}_ver{CFG.boosting_type}.pkl', 'wb'))\n",
    "\n",
    "        # Add to out of folds array\n",
    "        oof_predictions[valid_index] = valid_pred\n",
    "        oof_fold[valid_index] = fold + 1\n",
    "        del x_train, x_valid, y_train, y_valid, model, valid_pred\n",
    "        gc.collect()\n",
    "\n",
    "    # Compute out of folds metric\n",
    "    score = np.sqrt(mean_squared_error(train_df[CFG.target_col], oof_predictions))\n",
    "    print(f'{method} our out of folds CV score is {score}')\n",
    "    # Create a dataframe to store out of folds predictions\n",
    "    # oof_df = pd.DataFrame({'id': train_df['id'], CFG.target_col: train_df[CFG.target_col], f'{method}_prediction': oof_predictions, 'fold': oof_fold})\n",
    "    # oof_df.to_csv(CFG.MODEL_DATA_PATH / f'oof_{method}_seed{CFG.seed}_ver{CFG.boosting_type}.csv', index = False)"
   ]
  },
  {
   "cell_type": "code",
   "execution_count": 7,
   "metadata": {},
   "outputs": [],
   "source": [
    "train_df = pd.read_csv(CFG.DATA_PATH / 'train.csv')\n",
    "venue_info_df = pd.read_csv(CFG.DATA_PATH / 'venue_information.csv')\n",
    "test_df = pd.read_csv(CFG.DATA_PATH / 'test.csv')\n",
    "test_df[CFG.target_col] = -1\n",
    "match_reports_df = pd.read_csv('match_reports.csv')\n",
    "holidays_in_japan_df = pd.read_csv('holidays_in_japan.csv')\n",
    "submission_df = pd.read_csv(CFG.DATA_PATH / 'sample_submit.csv')\n",
    "all_df = pd.concat([train_df, test_df])"
   ]
  },
  {
   "cell_type": "code",
   "execution_count": 8,
   "metadata": {},
   "outputs": [],
   "source": [
    "# match_reports_df を 'id' カラムで all_df と結合します\n",
    "all_df = pd.merge(all_df, match_reports_df, on='id', how='left')\n",
    "\n",
    "# venue_info_df を 'venue' カラムで all_df と結合します\n",
    "all_df = pd.merge(all_df, venue_info_df, on='venue', how='left')\n",
    "\n",
    "# holidays_in_japan_df を 'match_date' カラムで all_df と結合します\n",
    "all_df['match_date'] = pd.to_datetime(all_df['match_date'])\n",
    "holidays_in_japan_df['holiday_date'] = pd.to_datetime(holidays_in_japan_df['holiday_date'])\n",
    "all_df['match_date'] = all_df['match_date'].dt.date\n",
    "holidays_in_japan_df['holiday_date'] = holidays_in_japan_df['holiday_date'].dt.date\n",
    "\n",
    "# もう一度 datetime 型に戻します\n",
    "all_df['match_date'] = pd.to_datetime(all_df['match_date'])\n",
    "holidays_in_japan_df['holiday_date'] = pd.to_datetime(holidays_in_japan_df['holiday_date'])\n",
    "\n",
    "all_df = pd.merge(all_df, holidays_in_japan_df, left_on='match_date', right_on='holiday_date', how='left')"
   ]
  },
  {
   "cell_type": "code",
   "execution_count": 9,
   "metadata": {},
   "outputs": [],
   "source": [
    "import feature_engineering as fe\n",
    "\n",
    "all_df = fe.apply_feature_engineering(all_df)\n",
    "all_df = fe.process_periodic_features(all_df)\n",
    "all_df = fe.add_geographical_features(all_df, venue_info_df)\n",
    "all_df = fe.add_grouped_statistics(all_df)\n",
    "all_df = all_df.dropna()\n",
    "all_df = fe.HDBSCAN_featuring(all_df)\n",
    "all_df = all_df.drop(['venue', 'address', 'description', 'match_date', 'kick_off_time', 'home_team', 'away_team'], axis=1)\n",
    "\n",
    "# 最後に、訓練データとテストデータに再度分割します\n",
    "train_df = all_df[all_df['attendance'] != -1].dropna()\n",
    "test_df = all_df[all_df['attendance'] == -1]\n",
    "\n",
    "all_df = fe.compute_knn_features_and_preprocess(train_df, test_df, CFG.target_col, k=3, folds=5)"
   ]
  },
  {
   "cell_type": "code",
   "execution_count": 10,
   "metadata": {},
   "outputs": [
    {
     "name": "stdout",
     "output_type": "stream",
     "text": [
      "<class 'pandas.core.frame.DataFrame'>\n",
      "Index: 257 entries, 27 to 3365\n",
      "Columns: 128 entries, id to cluster\n",
      "dtypes: bool(4), float64(70), int32(5), int64(46), object(3)\n",
      "memory usage: 247.0+ KB\n"
     ]
    }
   ],
   "source": [
    "pd.set_option('display.max_rows', None)\n",
    "train_df.info()"
   ]
  },
  {
   "cell_type": "code",
   "execution_count": 11,
   "metadata": {},
   "outputs": [
    {
     "name": "stdout",
     "output_type": "stream",
     "text": [
      "Empty DataFrame\n",
      "Columns: [id, section, round, weather, temperature, humidity, attendance, home_team_score, away_team_score, capacity, スカパー!, スカパー!プレミアムサービス, スカパー, e2, スカパー(スカチャンHD、スカチャン), DAZN, スカパー!(パーフェクト チョイス), スカパー光, e2スカチャン, J SPORTS(録), NHK BS1, e2スカチャンHD, BS, e2(スカチャン!), テレ玉, BS-i, BS-TBS, e2(スカチャン!HV), 静岡放送, NHK総合, holiday_flag, long_weekend_flag, discomfort_index, home_team_rank, away_team_rank, home_team_last_year_rank, away_team_last_year_rank, rank_diff, rank_diff_abs, last_year_rank_diff, last_year_rank_diff_abs, diff_score, home_team_avg_conceded_last_3, away_team_avg_conceded_last_3, home_team_scored, away_team_scored, home_team_conceded, away_team_conceded, home_team_avg_points_last_3, home_team_avg_points_last_5, away_team_avg_points_last_3, away_team_avg_points_last_5, home_team_avg_scored_last_3, home_team_avg_scored_last_5, away_team_avg_scored_last_3, away_team_avg_scored_last_5, home_team_winning_streak, away_team_winning_streak, home_team_losing_streak, away_team_losing_streak, most_freq_home_player_in_match, second_most_freq_home_player_in_match, most_freq_away_player_in_match, second_most_freq_away_player_in_match, year, month, day, day_of_week, hour, month_sin, month_cos, day_sin, day_cos, day_of_week_sin, day_of_week_cos, hour_sin, hour_cos, section_sin, section_cos, venue_prefecture, venue_region, away_prefecture, home_same_prefecture, home_same_region, away_same_prefecture, away_same_region, distance_category, temperature_max_by_venue, temperature_min_by_venue, temperature_var_by_venue, temperature_mean_by_venue, temperature_sum_by_venue, discomfort_index_max_by_venue, discomfort_index_min_by_venue, discomfort_index_var_by_venue, discomfort_index_mean_by_venue, discomfort_index_sum_by_venue, humidity_max_by_venue, humidity_min_by_venue, humidity_var_by_venue, ...]\n",
      "Index: []\n",
      "\n",
      "[0 rows x 131 columns]\n"
     ]
    }
   ],
   "source": [
    "missing_rows = all_df[all_df.isnull().any(axis=1)]\n",
    "print(missing_rows)"
   ]
  },
  {
   "cell_type": "code",
   "execution_count": 12,
   "metadata": {},
   "outputs": [],
   "source": [
    "all_df = fe.perform_target_encoding(['venue_prefecture', 'away_prefecture', 'venue_region'], all_df, 'attendance', n_folds=10, seed=42)"
   ]
  },
  {
   "cell_type": "code",
   "execution_count": 13,
   "metadata": {},
   "outputs": [
    {
     "name": "stdout",
     "output_type": "stream",
     "text": [
      "away_prefecture_target_enc: 1\n",
      "away_team_avg_points_last_5: 1\n",
      "away_team_last_year_rank: 1\n",
      "away_team_rank: 1\n",
      "away_team_rank_mean_by_venue: 1\n",
      "capacity: 1\n",
      "day: 1\n",
      "discomfort_index: 1\n",
      "discomfort_index_min_by_venue: 1\n",
      "home_team_conceded: 1\n",
      "home_team_rank: 1\n",
      "home_team_rank_mean_by_venue: 1\n",
      "home_team_score_mean_by_venue: 1\n",
      "home_team_score_var_by_venue: 1\n",
      "knn_avg_dist_2: 1\n",
      "second_most_freq_home_player_in_match: 1\n",
      "section_cos: 1\n",
      "temperature: 1\n",
      "venue_region_target_enc: 1\n",
      "year: 1\n",
      "day_of_week_sin: 2\n",
      "venue_prefecture_target_enc: 3\n",
      "home_team_last_year_rank: 4\n",
      "home_team_avg_points_last_5: 5\n",
      "away_team_avg_scored_last_5: 6\n",
      "capacity_sum_by_venue: 7\n",
      "away_team_scored: 8\n",
      "humidity: 9\n",
      "temperature_var_by_venue: 10\n",
      "humidity_var_by_venue: 11\n",
      "away_team_avg_scored_last_3: 12\n",
      "distance_category: 13\n",
      "humidity_max_by_venue: 14\n",
      "temperature_max_by_venue: 15\n",
      "away_team_rank_var_by_venue: 16\n",
      "away_team_conceded: 17\n",
      "temperature_min_by_venue: 18\n",
      "discomfort_index_var_by_venue: 19\n",
      "home_team_losing_streak: 20\n",
      "home_team_rank_max_by_venue: 21\n",
      "away_team_score: 22\n",
      "home_team_scored: 23\n",
      "knn_avg_dist_3: 24\n",
      "last_year_rank_diff: 25\n",
      "スカパー!: 26\n",
      "temperature_sum_by_venue: 27\n",
      "hour: 28\n",
      "cluster: 29\n",
      "last_year_rank_diff_abs: 30\n",
      "home_team_avg_conceded_last_3: 31\n",
      "home_team_winning_streak: 32\n",
      "humidity_mean_by_venue: 33\n",
      "temperature_mean_by_venue: 34\n",
      "day_of_week: 35\n",
      "humidity_sum_by_venue: 36\n",
      "away_team_score_mean_by_venue: 37\n",
      "home_team_score_sum_by_venue: 38\n",
      "home_team_rank_var_by_venue: 39\n",
      "home_team_avg_scored_last_5: 40\n",
      "away_team_score_max_by_venue: 41\n",
      "away_team_score_var_by_venue: 42\n",
      "humidity_min_by_venue: 43\n",
      "away_same_region: 44\n",
      "away_team_avg_conceded_last_3: 45\n",
      "スカパー!(パーフェクト チョイス): 46\n",
      "スカパー: 47\n",
      "スカパー!プレミアムサービス: 48\n",
      "discomfort_index_sum_by_venue: 49\n",
      "capacity_mean_by_venue: 50\n",
      "home_team_score: 51\n",
      "e2: 52\n",
      "discomfort_index_mean_by_venue: 53\n",
      "スカパー(スカチャンHD、スカチャン): 54\n",
      "DAZN: 55\n",
      "home_same_region: 56\n",
      "home_team_avg_scored_last_3: 57\n",
      "スカパー光: 58\n",
      "home_team_score_max_by_venue: 59\n",
      "BS-TBS: 60\n",
      "BS-i: 61\n",
      "diff_score: 62\n",
      "away_team_avg_points_last_3: 63\n",
      "away_same_prefecture: 64\n",
      "discomfort_index_max_by_venue: 65\n",
      "e2スカチャン: 66\n",
      "month_sin: 67\n",
      "テレ玉: 68\n",
      "month_cos: 69\n",
      "J SPORTS(録): 70\n",
      "day_cos: 71\n",
      "NHK BS1: 72\n",
      "home_same_prefecture: 73\n",
      "e2スカチャンHD: 74\n",
      "hour_cos: 75\n",
      "BS: 76\n",
      "section_sin: 77\n",
      "e2(スカチャン!): 78\n",
      "e2(スカチャン!HV): 79\n",
      "静岡放送: 80\n",
      "home_team_score_min_by_venue: 81\n",
      "NHK総合: 82\n",
      "away_team_score_sum_by_venue: 83\n",
      "holiday_flag: 84\n",
      "capacity_min_by_venue: 85\n",
      "long_weekend_flag: 86\n",
      "capacity_var_by_venue: 87\n",
      "home_team_avg_points_last_3: 88\n",
      "month: 89\n",
      "capacity_max_by_venue: 90\n",
      "away_team_rank_sum_by_venue: 91\n",
      "day_sin: 92\n",
      "home_team_rank_min_by_venue: 93\n",
      "away_team_winning_streak: 94\n",
      "second_most_freq_away_player_in_match: 95\n",
      "knn_avg_dist_1: 96\n",
      "day_of_week_cos: 97\n",
      "rank_diff: 98\n",
      "hour_sin: 99\n",
      "rank_diff_abs: 100\n",
      "away_team_score_min_by_venue: 101\n",
      "away_team_losing_streak: 102\n",
      "away_team_rank_min_by_venue: 103\n",
      "most_freq_home_player_in_match: 104\n",
      "home_team_rank_sum_by_venue: 105\n",
      "away_team_rank_max_by_venue: 106\n",
      "most_freq_away_player_in_match: 107\n",
      "weather: 108\n",
      "round: 109\n",
      "section: 110\n"
     ]
    }
   ],
   "source": [
    "import model_tuner\n",
    "# train_df, test_df = model_tuner.select_features(all_df, 'attendance', CFG.seed, CFG.cat_params)\n",
    "train_df, test_df = model_tuner.select_features_with_lightgbm_rfecv(all_df, 'attendance', CFG.seed)"
   ]
  },
  {
   "cell_type": "code",
   "execution_count": 15,
   "metadata": {},
   "outputs": [
    {
     "data": {
      "text/plain": [
       "134"
      ]
     },
     "execution_count": 15,
     "metadata": {},
     "output_type": "execute_result"
    }
   ],
   "source": [
    "len(all_df.columns.tolist())"
   ]
  },
  {
   "cell_type": "code",
   "execution_count": 19,
   "metadata": {},
   "outputs": [],
   "source": [
    "# 'Id'や'Target'といった特定のカラムを除外した全てのカラムを特徴量とする場合\n",
    "features = train_df.columns.drop(['id', 'attendance'])\n",
    "\n",
    "# または、データ型が 'object'（文字列）または 'category' のカラムをカテゴリカル特徴量とする場合\n",
    "categorical_features = train_df.select_dtypes(include=['object', 'category']).columns.tolist()"
   ]
  },
  {
   "cell_type": "code",
   "execution_count": 20,
   "metadata": {},
   "outputs": [
    {
     "name": "stdout",
     "output_type": "stream",
     "text": [
      "<class 'pandas.core.frame.DataFrame'>\n",
      "Index: 257 entries, 0 to 256\n",
      "Data columns (total 22 columns):\n",
      " #   Column                                 Non-Null Count  Dtype  \n",
      "---  ------                                 --------------  -----  \n",
      " 0   temperature                            257 non-null    float64\n",
      " 1   capacity                               257 non-null    int64  \n",
      " 2   discomfort_index                       257 non-null    float64\n",
      " 3   home_team_rank                         257 non-null    float64\n",
      " 4   away_team_rank                         257 non-null    float64\n",
      " 5   away_team_last_year_rank               257 non-null    float64\n",
      " 6   home_team_conceded                     257 non-null    float64\n",
      " 7   away_team_avg_points_last_5            257 non-null    float64\n",
      " 8   second_most_freq_home_player_in_match  257 non-null    int64  \n",
      " 9   year                                   257 non-null    int32  \n",
      " 10  day                                    257 non-null    int32  \n",
      " 11  section_cos                            257 non-null    float64\n",
      " 12  discomfort_index_min_by_venue          257 non-null    float64\n",
      " 13  home_team_score_var_by_venue           257 non-null    float64\n",
      " 14  home_team_score_mean_by_venue          257 non-null    float64\n",
      " 15  home_team_rank_mean_by_venue           257 non-null    float64\n",
      " 16  away_team_rank_mean_by_venue           257 non-null    float64\n",
      " 17  knn_avg_dist_2                         257 non-null    float64\n",
      " 18  away_prefecture_target_enc             257 non-null    float64\n",
      " 19  venue_region_target_enc                257 non-null    float64\n",
      " 20  attendance                             257 non-null    int64  \n",
      " 21  id                                     257 non-null    int64  \n",
      "dtypes: float64(16), int32(2), int64(4)\n",
      "memory usage: 44.2 KB\n"
     ]
    }
   ],
   "source": [
    "train_df.info(verbose=True)"
   ]
  },
  {
   "cell_type": "code",
   "execution_count": null,
   "metadata": {},
   "outputs": [],
   "source": [
    "# パラメータチューニング\n",
    "CFG.cat_params = model_tuner.tune_model(train_df[features], train_df[CFG.target_col], n_trials=30)"
   ]
  },
  {
   "cell_type": "code",
   "execution_count": null,
   "metadata": {},
   "outputs": [],
   "source": [
    "model_tuner.tune_parameters_lgbm(train_df, target_col, seed)"
   ]
  },
  {
   "cell_type": "code",
   "execution_count": null,
   "metadata": {},
   "outputs": [],
   "source": [
    "for method in CFG.METHOD_LIST:\n",
    "    gradient_boosting_model_cv_training(method, train_df, features, categorical_features)"
   ]
  },
  {
   "cell_type": "code",
   "execution_count": null,
   "metadata": {},
   "outputs": [],
   "source": [
    "def lightgbm_inference(x_test: pd.DataFrame):\n",
    "    test_pred = np.zeros(len(x_test))\n",
    "    for fold in range(CFG.n_folds):\n",
    "        model = pickle.load(open(CFG.MODEL_DATA_PATH / f'lightgbm_fold{fold + 1}_seed{CFG.seed}_ver{CFG.boosting_type}.pkl', 'rb'))\n",
    "        categorical_cols = x_test.select_dtypes(include=['object', 'category']).columns\n",
    "        for col in categorical_cols:\n",
    "            x_test[col] = x_test[col].astype('category')\n",
    "        test_pred += model.predict(x_test)\n",
    "    return test_pred / CFG.n_folds\n",
    "\n",
    "def catboost_inference(x_test: pd.DataFrame):\n",
    "    test_pred = np.zeros(len(x_test))\n",
    "    for fold in range(CFG.n_folds):\n",
    "        model = pickle.load(open(CFG.MODEL_DATA_PATH / f'catboost_fold{fold + 1}_seed{CFG.seed}_ver{CFG.boosting_type}.pkl', 'rb'))\n",
    "        test_pred += model.predict(x_test)\n",
    "    return test_pred / CFG.n_folds\n",
    "\n",
    "def gradient_boosting_model_inference(method: str, test_df: pd.DataFrame, features: list):\n",
    "    x_test = test_df[features]\n",
    "    if method == 'lightgbm':\n",
    "        test_pred = lightgbm_inference(x_test)\n",
    "    if method == 'catboost':\n",
    "        test_pred = catboost_inference(x_test)\n",
    "    return test_pred\n",
    "\n",
    "\n",
    "for method in CFG.METHOD_LIST:\n",
    "    test_df[f'{method}_pred'] = gradient_boosting_model_inference(method, test_df, features)\n",
    "\n",
    "\n",
    "# アンサンブルの結果を保存\n",
    "test_df['final_pred'] = 0.5 * test_df['lightgbm_pred'] + 0.5 * test_df['catboost_pred']\n",
    "test_df[['id','final_pred']].to_csv(f'submissions/EMS_{CFG.n_folds}folds_submission_{datetime.datetime.now().strftime(\"%Y%m%d%H%M%S\")}_{CFG.seed}.csv', index=False, header=False)\n",
    "\n",
    "# LGBのみの結果を保存\n",
    "test_df['final_pred'] = 1.0 * test_df['lightgbm_pred'] + 0.0 * test_df['catboost_pred']\n",
    "test_df[['id','final_pred']].to_csv(f'submissions/OnlyLGB_{CFG.n_folds}folds_submission_{datetime.datetime.now().strftime(\"%Y%m%d%H%M%S\")}_{CFG.seed}.csv', index=False, header=False)\n",
    "\n",
    "# Catのみの結果を保存\n",
    "test_df['final_pred'] = 0.0 * test_df['lightgbm_pred'] + 1.0 * test_df['catboost_pred']\n",
    "test_df[['id','final_pred']].to_csv(f'submissions/OnlyCat_{CFG.n_folds}folds_submission_{datetime.datetime.now().strftime(\"%Y%m%d%H%M%S\")}_{CFG.seed}.csv', index=False, header=False)"
   ]
  },
  {
   "cell_type": "code",
   "execution_count": null,
   "metadata": {},
   "outputs": [],
   "source": []
  }
 ],
 "metadata": {
  "kernelspec": {
   "display_name": "Python 3",
   "language": "python",
   "name": "python3"
  },
  "language_info": {
   "codemirror_mode": {
    "name": "ipython",
    "version": 3
   },
   "file_extension": ".py",
   "mimetype": "text/x-python",
   "name": "python",
   "nbconvert_exporter": "python",
   "pygments_lexer": "ipython3",
   "version": "3.10.0"
  },
  "orig_nbformat": 4
 },
 "nbformat": 4,
 "nbformat_minor": 2
}
