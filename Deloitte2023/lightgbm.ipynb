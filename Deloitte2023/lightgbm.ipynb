{
 "cells": [
  {
   "attachments": {},
   "cell_type": "markdown",
   "metadata": {},
   "source": [
    "# LightGBM の実装"
   ]
  },
  {
   "cell_type": "code",
   "execution_count": 1,
   "metadata": {},
   "outputs": [],
   "source": [
    "# ====================================================\n",
    "# Library\n",
    "# ====================================================\n",
    "import os\n",
    "import gc\n",
    "import datetime\n",
    "import warnings\n",
    "warnings.filterwarnings('ignore')\n",
    "import random\n",
    "import numpy as np\n",
    "import pandas as pd\n",
    "from pathlib import Path\n",
    "import pickle\n",
    "\n",
    "from sklearn.model_selection import KFold\n",
    "from sklearn.metrics import mean_squared_error\n",
    "\n",
    "import lightgbm as lgb\n",
    "import xgboost as xgb\n",
    "from catboost import CatBoostRegressor"
   ]
  },
  {
   "cell_type": "code",
   "execution_count": null,
   "metadata": {},
   "outputs": [],
   "source": [
    "!mkdir oof\n",
    "!mkdir models"
   ]
  },
  {
   "cell_type": "code",
   "execution_count": null,
   "metadata": {},
   "outputs": [],
   "source": [
    "# ====================================================\n",
    "# Configurations\n",
    "# ====================================================\n",
    "class CFG:\n",
    "    DATA_PATH = Path('.')\n",
    "    OOF_DATA_PATH = Path('./oof')\n",
    "    MODEL_DATA_PATH = Path('./models')\n",
    "    METHOD_LIST = ['catboost', 'lightgbm']\n",
    "    seed = random.randint(0, 100)\n",
    "    n_folds = 10\n",
    "    target_col = 'attendance'\n",
    "    USE_PLAYER_FEATURES = False\n",
    "    num_boost_round = 50500\n",
    "    early_stopping_round = 500\n",
    "    verbose = 2000\n",
    "    boosting_type = 'gbdt'\n",
    "    lgb_params = {\n",
    "        'objective':'regression',\n",
    "        'metric': 'rmse',\n",
    "        'boosting': boosting_type,\n",
    "        'n_jobs': -1,\n",
    "        'seed': seed,\n",
    "        'force_col_wise':'true',\n",
    "        'num_boost_round': num_boost_round\n",
    "        }\n",
    "    cat_params = {\n",
    "        'loss_function': 'RMSE',\n",
    "        'iterations': num_boost_round,\n",
    "        'random_seed': seed,\n",
    "        }"
   ]
  },
  {
   "cell_type": "code",
   "execution_count": null,
   "metadata": {},
   "outputs": [],
   "source": [
    "# ====================================================\n",
    "# Seed everything\n",
    "# ====================================================\n",
    "def seed_everything(seed):\n",
    "    random.seed(seed)\n",
    "    np.random.seed(seed)\n",
    "    os.environ['PYTHONHASHSEED'] = str(seed)\n",
    "seed_everything(CFG.seed)"
   ]
  },
  {
   "cell_type": "code",
   "execution_count": null,
   "metadata": {},
   "outputs": [],
   "source": [
    "# ====================================================\n",
    "# LightGBM Metric\n",
    "# ====================================================\n",
    "def lgb_metric(y_pred, y_true):\n",
    "    y_true = y_true.get_label()\n",
    "    return 'rmse', np.sqrt(mean_squared_error(y_true, y_pred)), False\n",
    "\n",
    "# ====================================================\n",
    "# Catboost Metric\n",
    "# ====================================================\n",
    "class CatboostMetric(object):\n",
    "    def get_final_error(self, error, weight): return error\n",
    "    def is_max_optimal(self): return False\n",
    "    def evaluate(self, approxes, target, weight):\n",
    "        error = np.sqrt(mean_squared_error(np.array(target), approxes))\n",
    "        return error, 0"
   ]
  },
  {
   "cell_type": "code",
   "execution_count": null,
   "metadata": {},
   "outputs": [],
   "source": [
    "def lightgbm_training(x_train: pd.DataFrame, y_train: pd.DataFrame, x_valid: pd.DataFrame, y_valid: pd.DataFrame):\n",
    "    # Apply the encoding map to the relevant columns\n",
    "    categorical_cols = x_train.select_dtypes(include=['object']).columns.tolist()\n",
    "\n",
    "    # Convert categorical columns to 'category' dtype\n",
    "    for col in categorical_cols:\n",
    "        x_train[col] = x_train[col].astype('category')\n",
    "        x_valid[col] = x_valid[col].astype('category')\n",
    "\n",
    "    # Create LightGBM datasets\n",
    "    train_data = lgb.Dataset(x_train, label=y_train, categorical_feature=categorical_cols)\n",
    "    valid_data = lgb.Dataset(x_valid, label=y_valid, categorical_feature=categorical_cols)\n",
    "\n",
    "    # Train model\n",
    "    model = lgb.train(\n",
    "        params=CFG.lgb_params,\n",
    "        train_set=train_data,\n",
    "        num_boost_round=20000,\n",
    "        valid_sets=[valid_data],\n",
    "        callbacks=[lgb.early_stopping(CFG.early_stopping_round, verbose=True), lgb.log_evaluation(CFG.verbose)]\n",
    "        )\n",
    "\n",
    "    # Predict validation\n",
    "    valid_pred = model.predict(x_valid)\n",
    "    return model, valid_pred\n",
    "\n",
    "def catboost_training(x_train: pd.DataFrame, y_train: pd.DataFrame, x_valid: pd.DataFrame, y_valid: pd.DataFrame, categorical_features: list):\n",
    "    # Define model\n",
    "    model = CatBoostRegressor(**CFG.cat_params, cat_features=categorical_features)\n",
    "\n",
    "    # Fit model\n",
    "    model.fit(x_train, y_train, eval_set=[(x_valid, y_valid)], early_stopping_rounds=CFG.early_stopping_round, verbose=CFG.verbose)\n",
    "\n",
    "    # Predict validation\n",
    "    valid_pred = model.predict(x_valid)\n",
    "\n",
    "    return model, valid_pred\n",
    "\n",
    "def gradient_boosting_model_cv_training(method: str, train_df: pd.DataFrame, features: list, categorical_features: list):\n",
    "    # Create a numpy array to store out of folds predictions\n",
    "    oof_predictions = np.zeros(len(train_df))\n",
    "    oof_fold = np.zeros(len(train_df))\n",
    "    kfold = KFold(n_splits=CFG.n_folds, shuffle=True, random_state=CFG.seed)\n",
    "    for fold, (train_index, valid_index) in enumerate(kfold.split(train_df, train_df[CFG.target_col])):\n",
    "        print('-'*50)\n",
    "        print(f'{method} training fold {fold + 1}')\n",
    "        x_train = train_df[features].iloc[train_index]\n",
    "        y_train = train_df[CFG.target_col].iloc[train_index]\n",
    "        x_valid = train_df[features].iloc[valid_index]\n",
    "        y_valid = train_df[CFG.target_col].iloc[valid_index]\n",
    "        if method == 'lightgbm':\n",
    "            model, valid_pred = lightgbm_training(x_train, y_train, x_valid, y_valid)\n",
    "        if method == 'catboost':\n",
    "            model, valid_pred = catboost_training(x_train, y_train, x_valid, y_valid, categorical_features)\n",
    "\n",
    "        # Save best model\n",
    "        pickle.dump(model, open(CFG.MODEL_DATA_PATH / f'{method}_fold{fold + 1}_seed{CFG.seed}_ver{CFG.boosting_type}.pkl', 'wb'))\n",
    "        # Save encoders only for lightgbm and xgboost\n",
    "        # if method in ['lightgbm', 'xgboost']:\n",
    "        #     pickle.dump(encoders[fold], open(CFG.MODEL_DATA_PATH / f'{method}_encoders_fold{fold + 1}_seed{CFG.seed}_ver{CFG.boosting_type}.pkl', 'wb'))\n",
    "\n",
    "        # Add to out of folds array\n",
    "        oof_predictions[valid_index] = valid_pred\n",
    "        oof_fold[valid_index] = fold + 1\n",
    "        del x_train, x_valid, y_train, y_valid, model, valid_pred\n",
    "        gc.collect()\n",
    "\n",
    "    # Compute out of folds metric\n",
    "    score = np.sqrt(mean_squared_error(train_df[CFG.target_col], oof_predictions))\n",
    "    print(f'{method} our out of folds CV score is {score}')\n",
    "    # Create a dataframe to store out of folds predictions\n",
    "    # oof_df = pd.DataFrame({'id': train_df['id'], CFG.target_col: train_df[CFG.target_col], f'{method}_prediction': oof_predictions, 'fold': oof_fold})\n",
    "    # oof_df.to_csv(CFG.MODEL_DATA_PATH / f'oof_{method}_seed{CFG.seed}_ver{CFG.boosting_type}.csv', index = False)"
   ]
  },
  {
   "cell_type": "code",
   "execution_count": null,
   "metadata": {},
   "outputs": [],
   "source": [
    "train_df = pd.read_csv(CFG.DATA_PATH / 'train.csv')\n",
    "venue_info_df = pd.read_csv(CFG.DATA_PATH / 'venue_information.csv')\n",
    "test_df = pd.read_csv(CFG.DATA_PATH / 'test.csv')\n",
    "test_df[CFG.target_col] = -1\n",
    "match_reports_df = pd.read_csv('match_reports.csv')\n",
    "holidays_in_japan_df = pd.read_csv('holidays_in_japan.csv')\n",
    "submission_df = pd.read_csv(CFG.DATA_PATH / 'sample_submit.csv')\n",
    "all_df = pd.concat([train_df, test_df])"
   ]
  },
  {
   "cell_type": "code",
   "execution_count": null,
   "metadata": {},
   "outputs": [],
   "source": [
    "# match_reports_df を 'id' カラムで all_df と結合します\n",
    "all_df = pd.merge(all_df, match_reports_df, on='id', how='left')\n",
    "\n",
    "# venue_info_df を 'venue' カラムで all_df と結合します\n",
    "all_df = pd.merge(all_df, venue_info_df, on='venue', how='left')\n",
    "\n",
    "# holidays_in_japan_df を 'match_date' カラムで all_df と結合します\n",
    "all_df['match_date'] = pd.to_datetime(all_df['match_date'])\n",
    "holidays_in_japan_df['holiday_date'] = pd.to_datetime(holidays_in_japan_df['holiday_date'])\n",
    "all_df['match_date'] = all_df['match_date'].dt.date\n",
    "holidays_in_japan_df['holiday_date'] = holidays_in_japan_df['holiday_date'].dt.date\n",
    "\n",
    "# もう一度 datetime 型に戻します\n",
    "all_df['match_date'] = pd.to_datetime(all_df['match_date'])\n",
    "holidays_in_japan_df['holiday_date'] = pd.to_datetime(holidays_in_japan_df['holiday_date'])\n",
    "\n",
    "all_df = pd.merge(all_df, holidays_in_japan_df, left_on='match_date', right_on='holiday_date', how='left')"
   ]
  },
  {
   "cell_type": "code",
   "execution_count": null,
   "metadata": {},
   "outputs": [],
   "source": [
    "import feature_engineering as fe\n",
    "\n",
    "all_df = fe.apply_feature_engineering(all_df)\n",
    "all_df = fe.process_periodic_features(all_df)\n",
    "home_stadium_df = all_df[['home_team', 'venue', 'address']].drop_duplicates()\n",
    "all_df = fe.add_grouped_statistics(all_df)\n",
    "all_df = fe.add_geographical_features(all_df, venue_info_df, home_stadium_df)\n",
    "all_df = fe.HDBSCAN_featuring(all_df)\n",
    "all_df = all_df.drop(['venue', 'address', 'description', 'match_date', 'kick_off_time', 'home_team', 'away_team'], axis=1)\n",
    "\n",
    "# 最後に、訓練データとテストデータに再度分割します\n",
    "train_df = all_df[all_df['attendance'] != -1]\n",
    "test_df = all_df[all_df['attendance'] == -1]\n",
    "\n",
    "all_df = fe.compute_knn_features_and_preprocess(train_df, test_df, CFG.target_col, k=3, folds=CFG.n_folds)\n",
    "all_df = fe.perform_target_encoding(['venue_prefecture', 'away_prefecture', 'venue_region'], all_df, 'attendance', n_folds=CFG.n_folds, seed=CFG.seed)"
   ]
  },
  {
   "cell_type": "code",
   "execution_count": null,
   "metadata": {},
   "outputs": [],
   "source": [
    "missing_rows = all_df[all_df.isna().any(axis=1)]\n",
    "print(missing_rows)"
   ]
  },
  {
   "cell_type": "code",
   "execution_count": null,
   "metadata": {},
   "outputs": [],
   "source": [
    "import model_tuner\n",
    "train_df, test_df = model_tuner.select_features_with_lightgbm(all_df, 'attendance', CFG.seed)"
   ]
  },
  {
   "cell_type": "code",
   "execution_count": null,
   "metadata": {},
   "outputs": [],
   "source": [
    "# 'Id'や'Target'といった特定のカラムを除外した全てのカラムを特徴量とする場合\n",
    "features = train_df.columns.drop(['id', 'attendance'])\n",
    "\n",
    "# または、データ型が 'object'（文字列）または 'category' のカラムをカテゴリカル特徴量とする場合\n",
    "categorical_features = train_df.select_dtypes(include=['object', 'category']).columns.tolist()"
   ]
  },
  {
   "cell_type": "code",
   "execution_count": null,
   "metadata": {},
   "outputs": [],
   "source": [
    "train_df.info(verbose=True)"
   ]
  },
  {
   "cell_type": "code",
   "execution_count": null,
   "metadata": {},
   "outputs": [],
   "source": [
    "# パラメータチューニング\n",
    "CFG.cat_params = model_tuner.tune_model(train_df[features], train_df[CFG.target_col], 'cat', CFG.cat_params, n_trials=20)"
   ]
  },
  {
   "cell_type": "code",
   "execution_count": null,
   "metadata": {},
   "outputs": [],
   "source": [
    "# パラメータチューニング\n",
    "CFG.lgb_params = model_tuner.tune_model(train_df[features], train_df[CFG.target_col], 'lgb', CFG.lgb_params, n_trials=20)"
   ]
  },
  {
   "cell_type": "code",
   "execution_count": null,
   "metadata": {},
   "outputs": [],
   "source": [
    "for method in CFG.METHOD_LIST:\n",
    "    gradient_boosting_model_cv_training(method, train_df, features, categorical_features)"
   ]
  },
  {
   "cell_type": "code",
   "execution_count": null,
   "metadata": {},
   "outputs": [],
   "source": [
    "def lightgbm_inference(x_test: pd.DataFrame):\n",
    "    test_pred = np.zeros(len(x_test))\n",
    "    for fold in range(CFG.n_folds):\n",
    "        model = pickle.load(open(CFG.MODEL_DATA_PATH / f'lightgbm_fold{fold + 1}_seed{CFG.seed}_ver{CFG.boosting_type}.pkl', 'rb'))\n",
    "        categorical_cols = x_test.select_dtypes(include=['object', 'category']).columns\n",
    "        for col in categorical_cols:\n",
    "            x_test[col] = x_test[col].astype('category')\n",
    "        test_pred += model.predict(x_test)\n",
    "    return test_pred / CFG.n_folds\n",
    "\n",
    "def catboost_inference(x_test: pd.DataFrame):\n",
    "    test_pred = np.zeros(len(x_test))\n",
    "    for fold in range(CFG.n_folds):\n",
    "        model = pickle.load(open(CFG.MODEL_DATA_PATH / f'catboost_fold{fold + 1}_seed{CFG.seed}_ver{CFG.boosting_type}.pkl', 'rb'))\n",
    "        test_pred += model.predict(x_test)\n",
    "    return test_pred / CFG.n_folds\n",
    "\n",
    "def gradient_boosting_model_inference(method: str, test_df: pd.DataFrame, features: list):\n",
    "    x_test = test_df[features]\n",
    "    if method == 'lightgbm':\n",
    "        test_pred = lightgbm_inference(x_test)\n",
    "    if method == 'catboost':\n",
    "        test_pred = catboost_inference(x_test)\n",
    "    return test_pred\n",
    "\n",
    "\n",
    "for method in CFG.METHOD_LIST:\n",
    "    test_df[f'{method}_pred'] = gradient_boosting_model_inference(method, test_df, features)\n",
    "\n",
    "\n",
    "# アンサンブルの結果を保存\n",
    "test_df['final_pred'] = 0.5 * test_df['lightgbm_pred'] + 0.5 * test_df['catboost_pred']\n",
    "test_df[['id','final_pred']].to_csv(f'submissions/EMS_{CFG.n_folds}folds_submission_{datetime.datetime.now().strftime(\"%Y%m%d%H%M%S\")}_{CFG.seed}.csv', index=False, header=False)\n",
    "\n",
    "# LGBのみの結果を保存\n",
    "test_df['final_pred'] = 1.0 * test_df['lightgbm_pred'] + 0.0 * test_df['catboost_pred']\n",
    "test_df[['id','final_pred']].to_csv(f'submissions/OnlyLGB_{CFG.n_folds}folds_submission_{datetime.datetime.now().strftime(\"%Y%m%d%H%M%S\")}_{CFG.seed}.csv', index=False, header=False)\n",
    "\n",
    "# Catのみの結果を保存\n",
    "test_df['final_pred'] = 0.0 * test_df['lightgbm_pred'] + 1.0 * test_df['catboost_pred']\n",
    "test_df[['id','final_pred']].to_csv(f'submissions/OnlyCat_{CFG.n_folds}folds_submission_{datetime.datetime.now().strftime(\"%Y%m%d%H%M%S\")}_{CFG.seed}.csv', index=False, header=False)"
   ]
  }
 ],
 "metadata": {
  "kernelspec": {
   "display_name": "Python 3",
   "language": "python",
   "name": "python3"
  },
  "language_info": {
   "codemirror_mode": {
    "name": "ipython",
    "version": 3
   },
   "file_extension": ".py",
   "mimetype": "text/x-python",
   "name": "python",
   "nbconvert_exporter": "python",
   "pygments_lexer": "ipython3",
   "version": "3.10.0"
  },
  "orig_nbformat": 4
 },
 "nbformat": 4,
 "nbformat_minor": 2
}
