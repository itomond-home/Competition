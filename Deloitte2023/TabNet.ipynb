{
 "cells": [
  {
   "cell_type": "code",
   "execution_count": 8,
   "metadata": {},
   "outputs": [],
   "source": [
    "import numpy as np\n",
    "import pandas as pd\n",
    "from tqdm import tqdm\n",
    "from lightgbm import LGBMRegressor\n",
    "from sklearn.linear_model import LinearRegression\n"
   ]
  },
  {
   "cell_type": "code",
   "execution_count": 9,
   "metadata": {},
   "outputs": [],
   "source": [
    "class FRUFS:\n",
    "    def __init__(self, df, method=\"lgb\"):\n",
    "        self.df = df\n",
    "        self.method = method\n",
    "        self.model_func = LGBMRegressor if method == \"lgb\" else LinearRegression\n",
    "        self.W = np.zeros((df.shape[1], df.shape[1]))  # 重み/重要度のマトリクス\n",
    "\n",
    "    # 他の特徴量を計算するための重み/重要度を計算する\n",
    "    def calc_coef(self):\n",
    "        X = self.df.values\n",
    "        for i in tqdm(range(X.shape[1]), total=X.shape[1], desc=\"Calculating coefficient/importances\"):\n",
    "            indices = np.concatenate((np.arange(i).reshape(-1, 1), np.arange(i+1, X.shape[1]).reshape(-1, 1)))\n",
    "\n",
    "            train_X = np.hstack((X[:, :i], X[:, i+1:]))  # i番目の特徴量を外す\n",
    "            train_y = X[:, i]  # i番目の特徴量\n",
    "\n",
    "            # i番目の特徴量を他の特徴量で表現するための学習\n",
    "            model = self.model_func()\n",
    "            model.fit(train_X, train_y)\n",
    "\n",
    "            # モデルの重み/重要度をWに格納する\n",
    "            if self.method == \"linear\":\n",
    "                coef = model.coef_\n",
    "                coef = np.absolute(coef)\n",
    "            elif self.method == \"lgb\":\n",
    "                coef = model.feature_importances_\n",
    "\n",
    "            self.W[i, indices] = coef.reshape(-1, 1)\n",
    "\n",
    "        # 各特徴量が他の特徴量を表すときの重み/重要度の平均を計算\n",
    "        self.W_average = self.W.mean(axis=0)  # 列方向に平均を取る = ある特徴量にかけられる重みの平均\n",
    "        self.average_coef_df = pd.DataFrame({\"columns\": self.df.columns.values, \"importances\": self.W_average})\n",
    "\n",
    "    # 特徴量の重要度をDataFrameとして取得\n",
    "    def get_feature_importance(self):\n",
    "        return self.average_coef_df.sort_values(by=\"importances\", ascending=False)\n"
   ]
  },
  {
   "cell_type": "code",
   "execution_count": 10,
   "metadata": {},
   "outputs": [],
   "source": [
    "all_df = pd.read_csv(\"all_data.csv\")\n",
    "\n",
    "# データフレームをtrainとtestに分割\n",
    "df = all_df[all_df['attendance'] != -1]\n",
    "categorical_cols = df.select_dtypes(include=['object', 'category']).columns.tolist()\n",
    "df = df.drop(categorical_cols + ['id'], axis=1)"
   ]
  },
  {
   "cell_type": "code",
   "execution_count": 11,
   "metadata": {},
   "outputs": [
    {
     "name": "stderr",
     "output_type": "stream",
     "text": [
      "Calculating coefficient/importances: 100%|██████████| 142/142 [00:57<00:00,  2.47it/s]"
     ]
    },
    {
     "name": "stdout",
     "output_type": "stream",
     "text": [
      "                         columns  importances\n",
      "8                       capacity   112.394366\n",
      "0                        section    81.316901\n",
      "65                           day    69.676056\n",
      "5                     attendance    57.661972\n",
      "139  venue_prefecture_target_enc    57.415493\n",
      "..                           ...          ...\n",
      "104        capacity_min_by_venue     0.000000\n",
      "14                          DAZN     0.000000\n",
      "119             home_same_region     0.000000\n",
      "105        capacity_var_by_venue     0.000000\n",
      "106       capacity_mean_by_venue     0.000000\n",
      "\n",
      "[142 rows x 2 columns]\n"
     ]
    },
    {
     "name": "stderr",
     "output_type": "stream",
     "text": [
      "\n"
     ]
    }
   ],
   "source": [
    "frufs = FRUFS(df, method=\"lgb\")  # methodは\"linear\"も可\n",
    "frufs.calc_coef()\n",
    "importances = frufs.get_feature_importance()\n",
    "print(importances)"
   ]
  },
  {
   "cell_type": "code",
   "execution_count": 17,
   "metadata": {},
   "outputs": [
    {
     "name": "stdout",
     "output_type": "stream",
     "text": [
      "['capacity', 'section', 'day', 'attendance', 'venue_prefecture_target_enc', 'year', 'temperature', 'home_team_conceded', 'humidity', 'temperature_max_by_venue', 'discomfort_index_sum_by_venue', 'home_team_scored', 'away_team_conceded', 'temperature_min_by_venue', 'day_sin', 'rank_diff', 'away_prefecture_target_enc', 'discomfort_index', 'away_team_scored', 'knn_avg_dist_3', 'distance', 'venue_region_target_enc', 'last_year_rank_diff', 'knn_avg_dist_10', 'away_team_avg_conceded_last_3', 'home_team_avg_scored_last_5', 'away_team_avg_scored_last_5', 'section_sin', 'away_team_lon', 'temperature_var_by_venue', 'away_team_last_year_rank', 'diff_score', 'away_team_avg_scored_last_3', 'home_team_rank', 'home_team_avg_conceded_last_3', 'home_team_avg_scored_last_3', 'away_team_rank', 'home_team_last_year_rank', 'knn_avg_dist_9', 'knn_avg_dist_4', 'temperature_mean_by_venue', 'knn_avg_dist_7', 'knn_avg_dist_2', 'knn_avg_dist_6', 'knn_avg_dist_8', 'humidity_var_by_venue', 'knn_avg_dist_5', 'away_team_lat', 'humidity_mean_by_venue', 'home_team_rank_sum_by_venue', 'home_team_score_var_by_venue', 'home_team_rank_var_by_venue', 'away_team_winning_streak', 'last_year_rank_diff_abs', 'home_team_losing_streak', 'away_team_rank_var_by_venue', 'home_team_winning_streak', 'away_team_score_mean_by_venue', 'away_team_losing_streak', 'section_cos', 'rank_diff_abs', 'away_team_score_var_by_venue', 'hour', 'away_team_rank_mean_by_venue', 'discomfort_index_min_by_venue', 'day_cos', 'discomfort_index_max_by_venue', 'humidity_min_by_venue', 'humidity_max_by_venue', 'home_team_lon', 'day_of_week', 'home_team_score_mean_by_venue', 'away_team_rank_sum_by_venue', 'month', 'home_team_score', 'home_team_rank_mean_by_venue', 'discomfort_index_var_by_venue', 'away_team_score', 'home_team_lat', 'humidity_sum_by_venue', 'temperature_sum_by_venue', 'away_team_score_sum_by_venue', 'capacity_sum_by_venue', 'discomfort_index_mean_by_venue', 'home_team_score_sum_by_venue', 'home_team_avg_points_last_5', 'away_team_avg_points_last_5', 'away_team_score_max_by_venue', 'day_of_week_sin', 'month_sin', 'home_team_rank_max_by_venue', 'home_team_avg_points_last_3', 'knn_avg_dist_1', 'away_team_avg_points_last_3', 'month_cos', 'round', 'home_team_score_max_by_venue', 'home_team_rank_min_by_venue', 'weather', 'distance_category', 'day_of_week_cos', 'スカパー!', 'スカパー', 'capacity_max_by_venue', 'away_team_rank_max_by_venue', 'second_most_freq_home_player_in_match', 'second_most_freq_away_player_in_match', 'スカパー!(パーフェクト チョイス)', 'スカパー(スカチャンHD、スカチャン)', 'hour_sin', 'most_freq_home_player_in_match', 'e2スカチャン', 'スカパー光', 'cluster', 'most_freq_away_player_in_match', 'J SPORTS(録)', 'NHK総合', 'holiday_flag', 'away_team_rank_min_by_venue', 'home_same_prefecture', 'e2(スカチャン!)', 'home_team_score_min_by_venue', 'e2スカチャンHD', 'BS', 'e2', 'スカパー!プレミアムサービス', 'e2(スカチャン!HV)', 'long_weekend_flag', 'BS-i', 'away_same_region', 'hour_cos', 'BS-TBS', 'NHK BS1', '静岡放送', 'テレ玉', 'away_same_prefecture']\n"
     ]
    }
   ],
   "source": [
    "print(importances.loc[importances['importances']>0, 'columns'].tolist())"
   ]
  },
  {
   "cell_type": "code",
   "execution_count": null,
   "metadata": {},
   "outputs": [],
   "source": []
  }
 ],
 "metadata": {
  "kernelspec": {
   "display_name": "deloitte2023",
   "language": "python",
   "name": "python3"
  },
  "language_info": {
   "codemirror_mode": {
    "name": "ipython",
    "version": 3
   },
   "file_extension": ".py",
   "mimetype": "text/x-python",
   "name": "python",
   "nbconvert_exporter": "python",
   "pygments_lexer": "ipython3",
   "version": "3.10.0"
  },
  "orig_nbformat": 4
 },
 "nbformat": 4,
 "nbformat_minor": 2
}
