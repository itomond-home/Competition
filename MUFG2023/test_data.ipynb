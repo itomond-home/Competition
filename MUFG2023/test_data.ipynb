{
 "cells": [
  {
   "cell_type": "code",
   "execution_count": null,
   "metadata": {},
   "outputs": [],
   "source": [
    "import pandas as pd"
   ]
  },
  {
   "cell_type": "code",
   "execution_count": null,
   "metadata": {},
   "outputs": [],
   "source": [
    "train = pd.read_csv(\"train.csv\", index_col=0)\n",
    "card = pd.read_csv(\"card.csv\")\n",
    "test = pd.read_csv(\"test.csv\", index_col=0)\n",
    "user = pd.read_csv(\"user.csv\")"
   ]
  },
  {
   "cell_type": "code",
   "execution_count": null,
   "metadata": {},
   "outputs": [],
   "source": [
    "train"
   ]
  },
  {
   "cell_type": "code",
   "execution_count": null,
   "metadata": {},
   "outputs": [],
   "source": [
    "card"
   ]
  },
  {
   "cell_type": "code",
   "execution_count": null,
   "metadata": {},
   "outputs": [],
   "source": [
    "test"
   ]
  },
  {
   "cell_type": "code",
   "execution_count": null,
   "metadata": {},
   "outputs": [],
   "source": [
    "user"
   ]
  },
  {
   "cell_type": "code",
   "execution_count": null,
   "metadata": {},
   "outputs": [],
   "source": [
    "# 'user_id' と 'card_id' を文字列に変換して連結\n",
    "train['unique_id'] = train['user_id'].astype(str) + '_' + train['card_id'].astype(str)\n",
    "test['unique_id'] = test['user_id'].astype(str) + '_' + test['card_id'].astype(str)\n",
    "card['unique_id'] = card['user_id'].astype(str) + '_' + card['card_id'].astype(str)\n",
    "\n",
    "# 混同しないように一旦列を削除\n",
    "train = train.drop(['user_id', 'card_id'], axis=1)\n",
    "test = test.drop(['user_id', 'card_id'], axis=1)\n",
    "card = card.drop(['user_id', 'card_id'], axis=1)\n",
    "\n",
    "# 分割できるようにフラグ列を作成\n",
    "train['is_train'] = 1\n",
    "test['is_train'] = 0"
   ]
  },
  {
   "cell_type": "code",
   "execution_count": null,
   "metadata": {},
   "outputs": [],
   "source": [
    "# trainとtestを結合\n",
    "train_test = pd.concat([train, test])\n",
    "\n",
    "# cardデータフレームとマージ\n",
    "merged_with_card = pd.merge(train_test, card, on='unique_id', how='left')"
   ]
  },
  {
   "cell_type": "code",
   "execution_count": null,
   "metadata": {},
   "outputs": [],
   "source": [
    "merged_with_card"
   ]
  },
  {
   "cell_type": "code",
   "execution_count": null,
   "metadata": {},
   "outputs": [],
   "source": [
    "# 'unique_id'から'user_id'を抽出\n",
    "merged_with_card['user_id'] = merged_with_card['unique_id'].apply(lambda x: int(x.split('_')[0]))\n",
    "\n",
    "# userデータフレームとマージ\n",
    "final_merged = pd.merge(merged_with_card, user, on='user_id', how='left')"
   ]
  },
  {
   "cell_type": "code",
   "execution_count": null,
   "metadata": {},
   "outputs": [],
   "source": [
    "final_merged"
   ]
  },
  {
   "cell_type": "code",
   "execution_count": null,
   "metadata": {},
   "outputs": [],
   "source": [
    "final_merged.info()"
   ]
  },
  {
   "cell_type": "code",
   "execution_count": null,
   "metadata": {},
   "outputs": [],
   "source": [
    "final_merged['year_pin_last_changed']"
   ]
  },
  {
   "cell_type": "code",
   "execution_count": null,
   "metadata": {},
   "outputs": [],
   "source": [
    "# merchant_cityとmerchant_stateに基づいて最も頻繁に出現するzipコードを取得\n",
    "merchant_zip_map = final_merged.dropna(subset=['zip']).groupby(['merchant_city', 'merchant_state'])['zip'].agg(lambda x: x.mode()[0] if not x.mode().empty else None).to_dict()\n",
    "\n",
    "# cityとstateに基づいて最も頻繁に出現するzipcodeを取得\n",
    "user_zip_map = final_merged.dropna(subset=['zipcode']).groupby(['city', 'state'])['zipcode'].agg(lambda x: x.mode()[0] if not x.mode().empty else None).to_dict()\n",
    "\n",
    "# 欠損値を埋める関数\n",
    "def fill_missing_zip(row):\n",
    "    if pd.isna(row['zip']):\n",
    "        # \"ONLINE\"という特殊なケースを処理\n",
    "        if row['merchant_city'] == 'ONLINE' and pd.isna(row['merchant_state']):\n",
    "            return row['zip']\n",
    "        merchant_zip = merchant_zip_map.get((row['merchant_city'], row['merchant_state']))\n",
    "        user_zip = user_zip_map.get((row['city'], row['state']))\n",
    "        return merchant_zip if merchant_zip is not None else (user_zip if user_zip is not None else None)\n",
    "    return row['zip']\n",
    "\n",
    "# apply関数を用いてzip列の欠損値を埋める\n",
    "final_merged['zip'] = final_merged.apply(fill_missing_zip, axis=1)\n"
   ]
  },
  {
   "cell_type": "code",
   "execution_count": null,
   "metadata": {},
   "outputs": [],
   "source": [
    "final_merged.info()"
   ]
  },
  {
   "cell_type": "code",
   "execution_count": null,
   "metadata": {},
   "outputs": [],
   "source": [
    "import time\n",
    "\n",
    "# キャッシュ用の辞書\n",
    "lat_lng_cache = {}\n",
    "\n",
    "def get_lat_lng(zip_code):\n",
    "    # キャッシュ内に結果があるか確認\n",
    "    if zip_code in lat_lng_cache:\n",
    "        return lat_lng_cache[zip_code]\n",
    "\n",
    "    try:\n",
    "        geocode_result = gmaps.geocode('{}, USA'.format(zip_code))\n",
    "        lat = geocode_result[0][\"geometry\"][\"location\"][\"lat\"]\n",
    "        lng = geocode_result[0][\"geometry\"][\"location\"][\"lng\"]\n",
    "        lat_lng_cache[zip_code] = (lat, lng)\n",
    "        return lat, lng\n",
    "    except Exception as e:\n",
    "        print(f\"An error occurred: {e}\")\n",
    "        return None, None\n",
    "\n",
    "# 進捗確認用\n",
    "total_rows = len(final_merged)\n",
    "progress_step = total_rows // 10\n",
    "\n",
    "# DataFrameに新しい列として緯度と経度を追加\n",
    "for i, row in enumerate(final_merged.itertuples()):\n",
    "    if i % progress_step == 0:\n",
    "        print(f\"Progress: {i}/{total_rows}\")\n",
    "\n",
    "    zip_code = row.zip\n",
    "    final_merged.at[row.Index, 'shop_lat'], final_merged.at[row.Index, 'shop_lng'] = get_lat_lng(zip_code)\n",
    "    time.sleep(0.1)  # APIのレート制限に対応するための遅延\n"
   ]
  },
  {
   "cell_type": "code",
   "execution_count": null,
   "metadata": {},
   "outputs": [],
   "source": []
  }
 ],
 "metadata": {
  "kernelspec": {
   "display_name": "StudentCup2023",
   "language": "python",
   "name": "python3"
  },
  "language_info": {
   "codemirror_mode": {
    "name": "ipython",
    "version": 3
   },
   "file_extension": ".py",
   "mimetype": "text/x-python",
   "name": "python",
   "nbconvert_exporter": "python",
   "pygments_lexer": "ipython3",
   "version": "3.9.16"
  },
  "orig_nbformat": 4
 },
 "nbformat": 4,
 "nbformat_minor": 2
}
