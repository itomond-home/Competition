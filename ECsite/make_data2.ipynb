{
 "cells": [
  {
   "cell_type": "markdown",
   "metadata": {},
   "source": [
    "## ライブラリのインポート"
   ]
  },
  {
   "cell_type": "code",
   "execution_count": 1,
   "metadata": {},
   "outputs": [],
   "source": [
    "import pandas as pd\n",
    "import glob## データのダウンロード\n",
    "import pandas as pd"
   ]
  },
  {
   "cell_type": "markdown",
   "metadata": {},
   "source": [
    "## データのダウンロード"
   ]
  },
  {
   "cell_type": "code",
   "execution_count": 2,
   "metadata": {},
   "outputs": [
    {
     "name": "stdout",
     "output_type": "stream",
     "text": [
      "C:\\Users\\rutai\\OneDrive\\Documents\\GitHub\\Data\\2019_20_35.csv\n",
      "C:\\Users\\rutai\\OneDrive\\Documents\\GitHub\\Data\\2019_35_50.csv\n",
      "C:\\Users\\rutai\\OneDrive\\Documents\\GitHub\\Data\\2019_50_65.csv\n",
      "C:\\Users\\rutai\\OneDrive\\Documents\\GitHub\\Data\\2019_65_80.csv\n",
      "C:\\Users\\rutai\\OneDrive\\Documents\\GitHub\\Data\\2020_20_35.csv\n",
      "C:\\Users\\rutai\\OneDrive\\Documents\\GitHub\\Data\\2020_35_50.csv\n",
      "C:\\Users\\rutai\\OneDrive\\Documents\\GitHub\\Data\\2020_50_65.csv\n",
      "C:\\Users\\rutai\\OneDrive\\Documents\\GitHub\\Data\\2020_65_80.csv\n"
     ]
    }
   ],
   "source": [
    "# パスで指定したファイルの一覧をリスト形式で取得. （ここでは一階層下のtestファイル以下）\n",
    "csv_files = glob.glob('C:\\\\Users\\\\rutai\\\\OneDrive\\\\Documents\\\\GitHub\\\\Data\\\\*.csv')\n",
    "\n",
    "#読み込むファイルのリストを表示\n",
    "for a in csv_files:\n",
    "    print(a)\n",
    "\n",
    "#csvファイルの中身を追加していくリストを用意\n",
    "data_list = []\n",
    "\n",
    "#読み込むファイルのリストを走査\n",
    "for file in csv_files:\n",
    "    data_list.append(pd.read_csv(file))\n",
    "\n",
    "#リストを全て行方向に結合\n",
    "#axis=0:行方向に結合, sort\n",
    "test_ = pd.concat(data_list, axis=0, sort=True)\n",
    "from tqdm import tqdm"
   ]
  },
  {
   "cell_type": "markdown",
   "metadata": {},
   "source": [
    "## 特徴量エンジニアリング"
   ]
  },
  {
   "cell_type": "code",
   "execution_count": 3,
   "metadata": {},
   "outputs": [
    {
     "name": "stderr",
     "output_type": "stream",
     "text": [
      "12888912it [89:08:02, 40.17it/s]\n"
     ]
    },
    {
     "data": {
      "text/html": [
       "<div>\n",
       "<style scoped>\n",
       "    .dataframe tbody tr th:only-of-type {\n",
       "        vertical-align: middle;\n",
       "    }\n",
       "\n",
       "    .dataframe tbody tr th {\n",
       "        vertical-align: top;\n",
       "    }\n",
       "\n",
       "    .dataframe thead th {\n",
       "        text-align: right;\n",
       "    }\n",
       "</style>\n",
       "<table border=\"1\" class=\"dataframe\">\n",
       "  <thead>\n",
       "    <tr style=\"text-align: right;\">\n",
       "      <th></th>\n",
       "      <th>price</th>\n",
       "      <th>user_age</th>\n",
       "      <th>user_gender</th>\n",
       "      <th>user_region</th>\n",
       "      <th>week</th>\n",
       "      <th>genre</th>\n",
       "    </tr>\n",
       "  </thead>\n",
       "  <tbody>\n",
       "    <tr>\n",
       "      <th>0</th>\n",
       "      <td>(9000, 10000]</td>\n",
       "      <td>(20, 35]</td>\n",
       "      <td>f</td>\n",
       "      <td>中国</td>\n",
       "      <td>1</td>\n",
       "      <td>惣菜</td>\n",
       "    </tr>\n",
       "    <tr>\n",
       "      <th>1</th>\n",
       "      <td>(4000, 5000]</td>\n",
       "      <td>(20, 35]</td>\n",
       "      <td>f</td>\n",
       "      <td>中部</td>\n",
       "      <td>1</td>\n",
       "      <td>文庫・新書</td>\n",
       "    </tr>\n",
       "    <tr>\n",
       "      <th>2</th>\n",
       "      <td>(30000, 40000]</td>\n",
       "      <td>(20, 35]</td>\n",
       "      <td>m</td>\n",
       "      <td>関東</td>\n",
       "      <td>1</td>\n",
       "      <td>ベースメイク・メイクアップ</td>\n",
       "    </tr>\n",
       "    <tr>\n",
       "      <th>3</th>\n",
       "      <td>(2000, 3000]</td>\n",
       "      <td>(20, 35]</td>\n",
       "      <td>m</td>\n",
       "      <td>関東</td>\n",
       "      <td>1</td>\n",
       "      <td>ヘアケア・スタイリング</td>\n",
       "    </tr>\n",
       "    <tr>\n",
       "      <th>4</th>\n",
       "      <td>(5000, 6000]</td>\n",
       "      <td>(20, 35]</td>\n",
       "      <td>f</td>\n",
       "      <td>中部</td>\n",
       "      <td>1</td>\n",
       "      <td>コーヒー</td>\n",
       "    </tr>\n",
       "    <tr>\n",
       "      <th>...</th>\n",
       "      <td>...</td>\n",
       "      <td>...</td>\n",
       "      <td>...</td>\n",
       "      <td>...</td>\n",
       "      <td>...</td>\n",
       "      <td>...</td>\n",
       "    </tr>\n",
       "    <tr>\n",
       "      <th>1065453</th>\n",
       "      <td>(2000, 3000]</td>\n",
       "      <td>(65, 80]</td>\n",
       "      <td>f</td>\n",
       "      <td>中国</td>\n",
       "      <td>53</td>\n",
       "      <td>医薬品・医薬部外品</td>\n",
       "    </tr>\n",
       "    <tr>\n",
       "      <th>1065454</th>\n",
       "      <td>(10000, 20000]</td>\n",
       "      <td>(65, 80]</td>\n",
       "      <td>m</td>\n",
       "      <td>中部</td>\n",
       "      <td>53</td>\n",
       "      <td>眼鏡・サングラス</td>\n",
       "    </tr>\n",
       "    <tr>\n",
       "      <th>1065455</th>\n",
       "      <td>(4000, 5000]</td>\n",
       "      <td>(65, 80]</td>\n",
       "      <td>m</td>\n",
       "      <td>関東</td>\n",
       "      <td>53</td>\n",
       "      <td>野菜・果実飲料</td>\n",
       "    </tr>\n",
       "    <tr>\n",
       "      <th>1065456</th>\n",
       "      <td>(2000, 3000]</td>\n",
       "      <td>(65, 80]</td>\n",
       "      <td>m</td>\n",
       "      <td>近畿</td>\n",
       "      <td>53</td>\n",
       "      <td>レディース</td>\n",
       "    </tr>\n",
       "    <tr>\n",
       "      <th>1065457</th>\n",
       "      <td>(3000, 4000]</td>\n",
       "      <td>(65, 80]</td>\n",
       "      <td>m</td>\n",
       "      <td>関東</td>\n",
       "      <td>53</td>\n",
       "      <td>ワイン</td>\n",
       "    </tr>\n",
       "  </tbody>\n",
       "</table>\n",
       "<p>12888912 rows × 6 columns</p>\n",
       "</div>"
      ],
      "text/plain": [
       "                  price  user_age user_gender user_region  week  \\\n",
       "0         (9000, 10000]  (20, 35]           f          中国     1   \n",
       "1          (4000, 5000]  (20, 35]           f          中部     1   \n",
       "2        (30000, 40000]  (20, 35]           m          関東     1   \n",
       "3          (2000, 3000]  (20, 35]           m          関東     1   \n",
       "4          (5000, 6000]  (20, 35]           f          中部     1   \n",
       "...                 ...       ...         ...         ...   ...   \n",
       "1065453    (2000, 3000]  (65, 80]           f          中国    53   \n",
       "1065454  (10000, 20000]  (65, 80]           m          中部    53   \n",
       "1065455    (4000, 5000]  (65, 80]           m          関東    53   \n",
       "1065456    (2000, 3000]  (65, 80]           m          近畿    53   \n",
       "1065457    (3000, 4000]  (65, 80]           m          関東    53   \n",
       "\n",
       "                   genre  \n",
       "0                    惣菜   \n",
       "1                 文庫・新書   \n",
       "2         ベースメイク・メイクアップ   \n",
       "3           ヘアケア・スタイリング   \n",
       "4                  コーヒー   \n",
       "...                  ...  \n",
       "1065453       医薬品・医薬部外品   \n",
       "1065454        眼鏡・サングラス   \n",
       "1065455          野菜・果実飲料  \n",
       "1065456           レディース   \n",
       "1065457             ワイン   \n",
       "\n",
       "[12888912 rows x 6 columns]"
      ]
     },
     "execution_count": 3,
     "metadata": {},
     "output_type": "execute_result"
    }
   ],
   "source": [
    "for index, data in tqdm(test_.iterrows()):\n",
    "  \"\"\" genreの作成 \"\"\"\n",
    "  genre_list = data[\"genre_name_all\"].split(\">>\")\n",
    "  test_.loc[index,f\"genre\"] = genre_list[1]\n",
    "\n",
    "test_ = test_.drop([\"genre_name_all\"],axis=1)"
   ]
  },
  {
   "cell_type": "code",
   "execution_count": 4,
   "metadata": {},
   "outputs": [],
   "source": [
    "# \"\"\"frequency encodeの作成\"\"\"\n",
    "# for col in [\"use_gender\", \"user_age\", \"user_region\", \"price\", \"genre\"]:\n",
    "#     enc_nom_1 = (test_.groupby(col).size())/len(test_)\n",
    "#     test_[f'{col}_freq'] = test_[col].apply(lambda x : enc_nom_1[x])\n",
    "    \n",
    "# \"\"\"one-hot encodeの作成\"\"\"\n",
    "# test_ = pd.get_dummies(test_)"
   ]
  },
  {
   "cell_type": "code",
   "execution_count": 5,
   "metadata": {},
   "outputs": [
    {
     "name": "stderr",
     "output_type": "stream",
     "text": [
      "638822it [4:28:48, 39.61it/s]\n"
     ]
    },
    {
     "ename": "KeyboardInterrupt",
     "evalue": "",
     "output_type": "error",
     "traceback": [
      "\u001b[1;31m---------------------------------------------------------------------------\u001b[0m",
      "\u001b[1;31mKeyboardInterrupt\u001b[0m                         Traceback (most recent call last)",
      "\u001b[1;32mセル8 を c:\\Users\\rutai\\OneDrive\\Documents\\GitHub\\Competition\\ECsite\\make_data2.ipynb\u001b[0m in \u001b[0;36m<cell line: 1>\u001b[1;34m()\u001b[0m\n\u001b[0;32m      <a href='vscode-notebook-cell:/c%3A/Users/rutai/OneDrive/Documents/GitHub/Competition/ECsite/make_data2.ipynb#X10sZmlsZQ%3D%3D?line=1'>2</a>\u001b[0m     \u001b[39m\"\"\" ageの作成 \"\"\"\u001b[39;00m\n\u001b[0;32m      <a href='vscode-notebook-cell:/c%3A/Users/rutai/OneDrive/Documents/GitHub/Competition/ECsite/make_data2.ipynb#X10sZmlsZQ%3D%3D?line=2'>3</a>\u001b[0m     age_num \u001b[39m=\u001b[39m data[\u001b[39m\"\u001b[39m\u001b[39muser_age\u001b[39m\u001b[39m\"\u001b[39m][\u001b[39m1\u001b[39m:\u001b[39m-\u001b[39m\u001b[39m1\u001b[39m]\u001b[39m.\u001b[39msplit(\u001b[39m\"\u001b[39m\u001b[39m,\u001b[39m\u001b[39m\"\u001b[39m)\n\u001b[1;32m----> <a href='vscode-notebook-cell:/c%3A/Users/rutai/OneDrive/Documents/GitHub/Competition/ECsite/make_data2.ipynb#X10sZmlsZQ%3D%3D?line=3'>4</a>\u001b[0m     test_\u001b[39m.\u001b[39;49mloc[index,\u001b[39m\"\u001b[39;49m\u001b[39mage\u001b[39;49m\u001b[39m\"\u001b[39;49m] \u001b[39m=\u001b[39m (\u001b[39mint\u001b[39m(age_num[\u001b[39m0\u001b[39m])\u001b[39m+\u001b[39m\u001b[39mint\u001b[39m(age_num[\u001b[39m1\u001b[39m]))\u001b[39m/\u001b[39m\u001b[39m2\u001b[39m\n\u001b[0;32m      <a href='vscode-notebook-cell:/c%3A/Users/rutai/OneDrive/Documents/GitHub/Competition/ECsite/make_data2.ipynb#X10sZmlsZQ%3D%3D?line=5'>6</a>\u001b[0m test_\u001b[39m.\u001b[39mdrop([\u001b[39m\"\u001b[39m\u001b[39muser_age\u001b[39m\u001b[39m\"\u001b[39m],axis\u001b[39m=\u001b[39m\u001b[39m1\u001b[39m)\n",
      "File \u001b[1;32mc:\\Users\\rutai\\anaconda3\\envs\\itomond\\lib\\site-packages\\pandas\\core\\indexing.py:716\u001b[0m, in \u001b[0;36m_LocationIndexer.__setitem__\u001b[1;34m(self, key, value)\u001b[0m\n\u001b[0;32m    713\u001b[0m \u001b[39mself\u001b[39m\u001b[39m.\u001b[39m_has_valid_setitem_indexer(key)\n\u001b[0;32m    715\u001b[0m iloc \u001b[39m=\u001b[39m \u001b[39mself\u001b[39m \u001b[39mif\u001b[39;00m \u001b[39mself\u001b[39m\u001b[39m.\u001b[39mname \u001b[39m==\u001b[39m \u001b[39m\"\u001b[39m\u001b[39miloc\u001b[39m\u001b[39m\"\u001b[39m \u001b[39melse\u001b[39;00m \u001b[39mself\u001b[39m\u001b[39m.\u001b[39mobj\u001b[39m.\u001b[39miloc\n\u001b[1;32m--> 716\u001b[0m iloc\u001b[39m.\u001b[39;49m_setitem_with_indexer(indexer, value, \u001b[39mself\u001b[39;49m\u001b[39m.\u001b[39;49mname)\n",
      "File \u001b[1;32mc:\\Users\\rutai\\anaconda3\\envs\\itomond\\lib\\site-packages\\pandas\\core\\indexing.py:1688\u001b[0m, in \u001b[0;36m_iLocIndexer._setitem_with_indexer\u001b[1;34m(self, indexer, value, name)\u001b[0m\n\u001b[0;32m   1685\u001b[0m \u001b[39m# align and set the values\u001b[39;00m\n\u001b[0;32m   1686\u001b[0m \u001b[39mif\u001b[39;00m take_split_path:\n\u001b[0;32m   1687\u001b[0m     \u001b[39m# We have to operate column-wise\u001b[39;00m\n\u001b[1;32m-> 1688\u001b[0m     \u001b[39mself\u001b[39;49m\u001b[39m.\u001b[39;49m_setitem_with_indexer_split_path(indexer, value, name)\n\u001b[0;32m   1689\u001b[0m \u001b[39melse\u001b[39;00m:\n\u001b[0;32m   1690\u001b[0m     \u001b[39mself\u001b[39m\u001b[39m.\u001b[39m_setitem_single_block(indexer, value, name)\n",
      "File \u001b[1;32mc:\\Users\\rutai\\anaconda3\\envs\\itomond\\lib\\site-packages\\pandas\\core\\indexing.py:1716\u001b[0m, in \u001b[0;36m_iLocIndexer._setitem_with_indexer_split_path\u001b[1;34m(self, indexer, value, name)\u001b[0m\n\u001b[0;32m   1713\u001b[0m ilocs \u001b[39m=\u001b[39m \u001b[39mself\u001b[39m\u001b[39m.\u001b[39m_ensure_iterable_column_indexer(info_axis)\n\u001b[0;32m   1715\u001b[0m pi \u001b[39m=\u001b[39m indexer[\u001b[39m0\u001b[39m]\n\u001b[1;32m-> 1716\u001b[0m lplane_indexer \u001b[39m=\u001b[39m length_of_indexer(pi, \u001b[39mself\u001b[39;49m\u001b[39m.\u001b[39;49mobj\u001b[39m.\u001b[39;49mindex)\n\u001b[0;32m   1717\u001b[0m \u001b[39m# lplane_indexer gives the expected length of obj[indexer[0]]\u001b[39;00m\n\u001b[0;32m   1718\u001b[0m \n\u001b[0;32m   1719\u001b[0m \u001b[39m# we need an iterable, with a ndim of at least 1\u001b[39;00m\n\u001b[0;32m   1720\u001b[0m \u001b[39m# eg. don't pass through np.array(0)\u001b[39;00m\n\u001b[0;32m   1721\u001b[0m \u001b[39mif\u001b[39;00m is_list_like_indexer(value) \u001b[39mand\u001b[39;00m \u001b[39mgetattr\u001b[39m(value, \u001b[39m\"\u001b[39m\u001b[39mndim\u001b[39m\u001b[39m\"\u001b[39m, \u001b[39m1\u001b[39m) \u001b[39m>\u001b[39m \u001b[39m0\u001b[39m:\n",
      "File \u001b[1;32mc:\\Users\\rutai\\anaconda3\\envs\\itomond\\lib\\site-packages\\pandas\\core\\indexers\\utils.py:354\u001b[0m, in \u001b[0;36mlength_of_indexer\u001b[1;34m(indexer, target)\u001b[0m\n\u001b[0;32m    350\u001b[0m         indexer \u001b[39m=\u001b[39m np\u001b[39m.\u001b[39marray(indexer)\n\u001b[0;32m    352\u001b[0m     \u001b[39mif\u001b[39;00m indexer\u001b[39m.\u001b[39mdtype \u001b[39m==\u001b[39m \u001b[39mbool\u001b[39m:\n\u001b[0;32m    353\u001b[0m         \u001b[39m# GH#25774\u001b[39;00m\n\u001b[1;32m--> 354\u001b[0m         \u001b[39mreturn\u001b[39;00m indexer\u001b[39m.\u001b[39;49msum()\n\u001b[0;32m    355\u001b[0m     \u001b[39mreturn\u001b[39;00m \u001b[39mlen\u001b[39m(indexer)\n\u001b[0;32m    356\u001b[0m \u001b[39melif\u001b[39;00m \u001b[39misinstance\u001b[39m(indexer, \u001b[39mrange\u001b[39m):\n",
      "File \u001b[1;32mc:\\Users\\rutai\\anaconda3\\envs\\itomond\\lib\\site-packages\\numpy\\core\\_methods.py:48\u001b[0m, in \u001b[0;36m_sum\u001b[1;34m(a, axis, dtype, out, keepdims, initial, where)\u001b[0m\n\u001b[0;32m     46\u001b[0m \u001b[39mdef\u001b[39;00m \u001b[39m_sum\u001b[39m(a, axis\u001b[39m=\u001b[39m\u001b[39mNone\u001b[39;00m, dtype\u001b[39m=\u001b[39m\u001b[39mNone\u001b[39;00m, out\u001b[39m=\u001b[39m\u001b[39mNone\u001b[39;00m, keepdims\u001b[39m=\u001b[39m\u001b[39mFalse\u001b[39;00m,\n\u001b[0;32m     47\u001b[0m          initial\u001b[39m=\u001b[39m_NoValue, where\u001b[39m=\u001b[39m\u001b[39mTrue\u001b[39;00m):\n\u001b[1;32m---> 48\u001b[0m     \u001b[39mreturn\u001b[39;00m umr_sum(a, axis, dtype, out, keepdims, initial, where)\n",
      "\u001b[1;31mKeyboardInterrupt\u001b[0m: "
     ]
    }
   ],
   "source": [
    "for index, data in tqdm(test_.iterrows()):\n",
    "    \"\"\" ageの作成 \"\"\"\n",
    "    age_num = data[\"user_age\"][1:-1].split(\",\")\n",
    "    test_.loc[index,\"age\"] = (int(age_num[0])+int(age_num[1]))/2\n",
    "\n",
    "test_.drop([\"user_age\"],axis=1)"
   ]
  },
  {
   "cell_type": "code",
   "execution_count": null,
   "metadata": {},
   "outputs": [],
   "source": [
    "for index, data in tqdm(test_.iterrows()):\n",
    "    \"\"\" 価格の作成 \"\"\"\n",
    "    price_num = data[\"price\"][1:-1].split(\",\")\n",
    "    test_.loc[index,\"new_price\"] = (int(price_num[0])+int(price_num[1]))/2\n",
    "\n",
    "test_.drop([\"price\"],axis=1)"
   ]
  },
  {
   "cell_type": "code",
   "execution_count": null,
   "metadata": {},
   "outputs": [],
   "source": [
    "for index, data in tqdm(test_.iterrows()):\n",
    "  \"\"\" pseudo lon(経度), lat(緯度) の作成\"\"\"\n",
    "  if data[\"user_region\"] == \"北海道\": # 北海道の緯度経度\n",
    "    test_.loc[index,f\"pseudo_lat\"], test_.loc[index,f\"pseudo_lon\"] = 43.06417,141.34694\n",
    "\n",
    "  elif data[\"user_region\"] == \"東北\": # 宮城の緯度経度\n",
    "    test_.loc[index,f\"pseudo_lat\"], test_.loc[index,f\"pseudo_lon\"] = 38.26889,140.87194\n",
    "\n",
    "  elif data[\"user_region\"] == \"関東\": # 東京の緯度経度\n",
    "    test_.loc[index,f\"pseudo_lat\"], test_.loc[index,f\"pseudo_lon\"] = 35.68944,139.69167\n",
    "\n",
    "  elif data[\"user_region\"] == \"中部\": # 名古屋の緯度経度\n",
    "    test_.loc[index,f\"pseudo_lat\"], test_.loc[index,f\"pseudo_lon\"] = 35.18028,136.90667\n",
    "\n",
    "  elif data[\"user_region\"] == \"近畿\": # 大阪の緯度経度\n",
    "    test_.loc[index,f\"pseudo_lat\"], test_.loc[index,f\"pseudo_lon\"] = 34.68639,135.52\n",
    "\n",
    "  elif data[\"user_region\"] == \"中国\": # 広島の緯度経度\n",
    "    test_.loc[index,f\"pseudo_lat\"], test_.loc[index,f\"pseudo_lon\"] = 34.39639,132.45944\n",
    "\n",
    "  elif data[\"user_region\"] == \"四国\": # 愛媛の緯度経度\n",
    "    test_.loc[index,f\"pseudo_lat\"], test_.loc[index,f\"pseudo_lon\"] = 33.84167,132.76611\n",
    "\n",
    "  elif data[\"user_region\"] == \"九州\": # 福岡の緯度経度\n",
    "    test_.loc[index,f\"pseudo_lat\"], test_.loc[index,f\"pseudo_lon\"] = 33.60639,130.41806\n",
    "\n",
    "test_.drop([\"user_region\"],axis=1)"
   ]
  },
  {
   "cell_type": "code",
   "execution_count": null,
   "metadata": {},
   "outputs": [],
   "source": [
    "test_"
   ]
  },
  {
   "cell_type": "code",
   "execution_count": null,
   "metadata": {},
   "outputs": [],
   "source": [
    "test_.to_csv(\"data_all.csv\", index=False)"
   ]
  }
 ],
 "metadata": {
  "kernelspec": {
   "display_name": "Python 3.9.12 ('itomond')",
   "language": "python",
   "name": "python3"
  },
  "language_info": {
   "codemirror_mode": {
    "name": "ipython",
    "version": 3
   },
   "file_extension": ".py",
   "mimetype": "text/x-python",
   "name": "python",
   "nbconvert_exporter": "python",
   "pygments_lexer": "ipython3",
   "version": "3.9.12"
  },
  "orig_nbformat": 4,
  "vscode": {
   "interpreter": {
    "hash": "5a13b78b610cf201cf30240481ed79cfa432f79a86710be44289e35818a0ec89"
   }
  }
 },
 "nbformat": 4,
 "nbformat_minor": 2
}
