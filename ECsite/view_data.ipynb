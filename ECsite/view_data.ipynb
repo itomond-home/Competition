{
 "cells": [
  {
   "cell_type": "code",
   "execution_count": 2,
   "metadata": {},
   "outputs": [],
   "source": [
    "import pandas as pd"
   ]
  },
  {
   "cell_type": "code",
   "execution_count": 3,
   "metadata": {},
   "outputs": [],
   "source": [
    "data = pd.read_csv(\"C:\\\\Users\\\\rutai\\\\OneDrive\\\\Documents\\\\sakaori_data\\\\ver2_2019_20_35.csv\", index_col=0)"
   ]
  },
  {
   "cell_type": "code",
   "execution_count": 4,
   "metadata": {},
   "outputs": [],
   "source": [
    "def data_replace(df):\n",
    "    # 値の置換\n",
    "    df = df.replace([\"ビール・洋酒 \",\"日本酒・焼酎 \"],\"酒類\")\n",
    "    df = df.replace([\"靴 \"],\"靴\")\n",
    "    df = df.replace([\"キッズ・ベビー・マタニティ \"],\"ベビー\")\n",
    "    df = df.replace([\"バッグ・小物・ブランド雑貨 \",\"腕時計 \",\"ジュエリー・アクセサリー \"],\"衣類_小物\")\n",
    "    df = df.replace([\"ホビー \",\"テレビゲーム \",\"おもちゃ \"],\"ホビー・ゲーム\")\n",
    "    df = df.replace([\"美容・コスメ・香水 \"],\"コスメ\")\n",
    "    df = df.replace([\"医薬品・コンタクト・介護 \"],\"医薬品\")\n",
    "    df = df.replace([\"スマートフォン・タブレット \",\"TV・オーディオ・カメラ \",\"パソコン・周辺機器 \"],\"電子機器\")\n",
    "    df = df.replace([\"食品 \",\"スイーツ・お菓子 \"],\"食品\")\n",
    "    df = df.replace([\"日用品雑貨・文房具・手芸 \"],\"雑貨\")\n",
    "    df = df.replace([\"インテリア・寝具・収納 \"],\"家具\")\n",
    "    df = df.replace([\"本・雑誌・コミック \",\"CD・DVD \"],\"書籍/映像\")\n",
    "    df = df.replace([\"メンズファッション \",\"レディースファッション \",\"インナー・下着・ナイトウェア \"],\"衣類\")\n",
    "    df = df.replace([\"スポーツ・アウトドア \",\"ダイエット・健康 \"],\"スポーツ\")\n",
    "    df = df.replace([\"カタログギフト・チケット \"],\"ギフト\")\n",
    "    df = df.replace([\"花・ガーデン・DIY \"],\"園芸品\")\n",
    "    df = df.replace([\"楽器・音響機器 \"],\"楽器\")\n",
    "    df = df.replace([\"水・ソフトドリンク \"],\"飲料\")\n",
    "    df = df.replace([\"車用品・バイク用品 \",\"車・バイク \"],\"車用品\")\n",
    "    df = df.replace([\"サービス・リフォーム \"],\"サービス\")\n",
    "    df = df.replace([\"光回線・モバイル通信 \",\"デジタルコンテンツ \"],\"通信/デジタル\")\n",
    "    return df"
   ]
  },
  {
   "cell_type": "code",
   "execution_count": 5,
   "metadata": {},
   "outputs": [
    {
     "name": "stdout",
     "output_type": "stream",
     "text": [
      "['靴 ' 'キッズ・ベビー・マタニティ ' 'バッグ・小物・ブランド雑貨 ' 'ホビー ' '美容・コスメ・香水 '\n",
      " '医薬品・コンタクト・介護 ' 'スマートフォン・タブレット ' 'ダイエット・健康 ' '食品 ' '日用品雑貨・文房具・手芸 '\n",
      " 'インテリア・寝具・収納 ' '本・雑誌・コミック ' 'テレビゲーム ' 'CD・DVD ' 'メンズファッション '\n",
      " 'ペット・ペットグッズ ' '家電 ' 'キッチン用品・食器・調理器具 ' 'レディースファッション ' 'スポーツ・アウトドア '\n",
      " 'インナー・下着・ナイトウェア ' 'カタログギフト・チケット ' 'TV・オーディオ・カメラ ' 'ビール・洋酒 ' 'おもちゃ '\n",
      " '日本酒・焼酎 ' 'ジュエリー・アクセサリー ' '花・ガーデン・DIY ' '楽器・音響機器 ' '水・ソフトドリンク '\n",
      " '車用品・バイク用品 ' 'スイーツ・お菓子 ' 'パソコン・周辺機器 ' '腕時計 ' 'サービス・リフォーム ' '光回線・モバイル通信 '\n",
      " '車・バイク ' 'デジタルコンテンツ ']\n",
      "['靴' 'ベビー' '衣類_小物' 'ホビー・ゲーム' 'コスメ' '医薬品' '電子機器' 'スポーツ' '食品' '雑貨' '家具'\n",
      " '書籍/映像' '衣類' 'ペット・ペットグッズ ' '家電 ' 'キッチン用品・食器・調理器具 ' 'ギフト' '酒類' '園芸品' '楽器'\n",
      " '飲料' '車用品' 'サービス' '通信/デジタル']\n"
     ]
    }
   ],
   "source": [
    "print(data[\"genre\"].unique())\n",
    "\n",
    "tmp_data = data_replace(data)\n",
    "print(tmp_data[\"genre\"].unique())"
   ]
  },
  {
   "cell_type": "code",
   "execution_count": 7,
   "metadata": {},
   "outputs": [
    {
     "data": {
      "text/plain": [
       "38"
      ]
     },
     "execution_count": 7,
     "metadata": {},
     "output_type": "execute_result"
    }
   ],
   "source": [
    "data[\"genre\"].nunique()"
   ]
  }
 ],
 "metadata": {
  "kernelspec": {
   "display_name": "Python 3.9.0 ('itomond')",
   "language": "python",
   "name": "python3"
  },
  "language_info": {
   "codemirror_mode": {
    "name": "ipython",
    "version": 3
   },
   "file_extension": ".py",
   "mimetype": "text/x-python",
   "name": "python",
   "nbconvert_exporter": "python",
   "pygments_lexer": "ipython3",
   "version": "3.9.0"
  },
  "orig_nbformat": 4,
  "vscode": {
   "interpreter": {
    "hash": "5a13b78b610cf201cf30240481ed79cfa432f79a86710be44289e35818a0ec89"
   }
  }
 },
 "nbformat": 4,
 "nbformat_minor": 2
}
