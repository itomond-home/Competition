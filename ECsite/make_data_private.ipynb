{
 "cells": [
  {
   "cell_type": "markdown",
   "metadata": {},
   "source": [
    "## ライブラリのインポート"
   ]
  },
  {
   "cell_type": "code",
   "execution_count": 1,
   "metadata": {},
   "outputs": [],
   "source": [
    "import pandas as pd\n",
    "from tqdm import tqdm\n",
    "import os\n",
    "import glob"
   ]
  },
  {
   "cell_type": "markdown",
   "metadata": {},
   "source": [
    "## 特徴量エンジニアリング"
   ]
  },
  {
   "cell_type": "code",
   "execution_count": 2,
   "metadata": {},
   "outputs": [],
   "source": [
    "def make_genre(tmp_df):\n",
    "  \"\"\" genreの作成 \"\"\"\n",
    "  for index, data in tqdm(tmp_df.iterrows()):\n",
    "    genre_list = data[\"genre_name_all\"].split(\">>\")\n",
    "    tmp_df.loc[index,f\"genre\"] = genre_list[0]\n",
    "\n",
    "  tmp_df = tmp_df.drop([\"genre_name_all\"],axis=1)\n",
    "\n",
    "  return tmp_df\n",
    "\n",
    "def make_age(tmp_df):\n",
    "  \"\"\" ageの作成 \"\"\"\n",
    "  for index, data in tqdm(tmp_df.iterrows()):\n",
    "      age_num = data[\"user_age\"][1:-1].split(\",\")\n",
    "      tmp_df.loc[index,\"age\"] = (int(age_num[0])+int(age_num[1]))/2\n",
    "\n",
    "  tmp_df = tmp_df.drop([\"user_age\"],axis=1)\n",
    "  return tmp_df\n",
    "\n",
    "def make_price(tmp_df):\n",
    "  \"\"\" 価格の作成 \"\"\"\n",
    "  for index, data in tqdm(tmp_df.iterrows()):\n",
    "    price_num = data[\"price\"][1:-1].split(\",\")\n",
    "    tmp_df.loc[index,\"new_price\"] = (int(price_num[0])+int(price_num[1]))/2\n",
    "\n",
    "  tmp_df = tmp_df.drop([\"price\"],axis=1)\n",
    "  return tmp_df\n",
    "\n",
    "def make_lonlat(tmp_df):\n",
    "  \"\"\" pseudo lon(経度), lat(緯度) の作成\"\"\"\n",
    "  for index, data in tqdm(tmp_df.iterrows()):\n",
    "    if data[\"user_region\"] == \"北海道\": # 北海道の緯度経度\n",
    "      tmp_df.loc[index,f\"pseudo_lat\"],tmp_df.loc[index,f\"pseudo_lon\"] = 43.06417,141.34694\n",
    "\n",
    "    elif data[\"user_region\"] == \"東北\": # 宮城の緯度経度\n",
    "      tmp_df.loc[index,f\"pseudo_lat\"],tmp_df.loc[index,f\"pseudo_lon\"] = 38.26889,140.87194\n",
    "\n",
    "    elif data[\"user_region\"] == \"中部\": # 名古屋の緯度経度\n",
    "      tmp_df.loc[index,f\"pseudo_lat\"],tmp_df.loc[index,f\"pseudo_lon\"] = 35.18028,136.90667\n",
    "\n",
    "    elif data[\"user_region\"] == \"近畿\": # 大阪の緯度経度\n",
    "      tmp_df.loc[index,f\"pseudo_lat\"],tmp_df.loc[index,f\"pseudo_lon\"] = 34.68639,135.52\n",
    "\n",
    "    elif data[\"user_region\"] == \"中国\": # 広島の緯度経度\n",
    "      tmp_df.loc[index,f\"pseudo_lat\"],tmp_df.loc[index,f\"pseudo_lon\"] = 34.39639,132.45944\n",
    "\n",
    "    elif data[\"user_region\"] == \"四国\": # 愛媛の緯度経度\n",
    "      tmp_df.loc[index,f\"pseudo_lat\"],tmp_df.loc[index,f\"pseudo_lon\"] = 33.84167,132.76611\n",
    "\n",
    "    elif data[\"user_region\"] == \"九州\": # 福岡の緯度経度\n",
    "      tmp_df.loc[index,f\"pseudo_lat\"],tmp_df.loc[index,f\"pseudo_lon\"] = 33.60639,130.41806\n",
    "\n",
    "    else: # 東京の緯度経度\n",
    "      tmp_df.loc[index,f\"pseudo_lat\"],tmp_df.loc[index,f\"pseudo_lon\"] = 35.68944,139.69167\n",
    "\n",
    "  tmp_df = tmp_df.drop([\"user_region\"],axis=1)\n",
    "  return tmp_df"
   ]
  },
  {
   "cell_type": "code",
   "execution_count": 3,
   "metadata": {},
   "outputs": [],
   "source": [
    "def make_data(path):\n",
    "    df = pd.read_csv(path)\n",
    "    df = make_genre(df)\n",
    "    df = make_age(df)\n",
    "    df = make_price(df)\n",
    "    df = make_lonlat(df)\n",
    "    df.to_csv(os.path.join(os.path.split(path)[:1][0],\"ver2_\"+os.path.split(path)[1]))"
   ]
  },
  {
   "cell_type": "code",
   "execution_count": 4,
   "metadata": {},
   "outputs": [
    {
     "name": "stdout",
     "output_type": "stream",
     "text": [
      "C:\\Users\\rutai\\OneDrive\\Documents\\sakaori_data\\2019_20_35.csv\n"
     ]
    },
    {
     "name": "stderr",
     "output_type": "stream",
     "text": [
      "1304270it [02:46, 7833.09it/s]\n",
      "1304270it [03:24, 6391.07it/s]\n",
      "1304270it [04:13, 5140.99it/s]\n",
      "1304270it [04:46, 4548.12it/s]\n"
     ]
    },
    {
     "name": "stdout",
     "output_type": "stream",
     "text": [
      "C:\\Users\\rutai\\OneDrive\\Documents\\sakaori_data\\2019_35_50.csv\n"
     ]
    },
    {
     "name": "stderr",
     "output_type": "stream",
     "text": [
      "1990614it [04:59, 6649.34it/s]\n",
      "1990614it [04:13, 7860.42it/s]\n",
      "1990614it [04:10, 7961.92it/s]\n",
      "1990614it [07:10, 4623.66it/s]\n"
     ]
    },
    {
     "name": "stdout",
     "output_type": "stream",
     "text": [
      "C:\\Users\\rutai\\OneDrive\\Documents\\sakaori_data\\2019_50_65.csv\n"
     ]
    },
    {
     "name": "stderr",
     "output_type": "stream",
     "text": [
      "1393506it [03:15, 7114.59it/s]\n",
      "1393506it [02:53, 8020.40it/s]\n",
      "1393506it [02:52, 8059.03it/s]\n",
      "1393506it [05:02, 4611.58it/s]\n"
     ]
    },
    {
     "name": "stdout",
     "output_type": "stream",
     "text": [
      "C:\\Users\\rutai\\OneDrive\\Documents\\sakaori_data\\2019_65_80.csv\n"
     ]
    },
    {
     "name": "stderr",
     "output_type": "stream",
     "text": [
      "793845it [01:59, 6619.78it/s]\n",
      "793845it [01:37, 8103.66it/s]\n",
      "793845it [01:37, 8147.13it/s]\n",
      "793845it [02:51, 4641.92it/s]\n"
     ]
    },
    {
     "name": "stdout",
     "output_type": "stream",
     "text": [
      "C:\\Users\\rutai\\OneDrive\\Documents\\sakaori_data\\2020_20_35.csv\n"
     ]
    },
    {
     "name": "stderr",
     "output_type": "stream",
     "text": [
      "1927881it [04:17, 7496.67it/s]\n",
      "1927881it [03:59, 8057.88it/s]\n",
      "1927881it [03:57, 8128.21it/s]\n",
      "1927881it [06:52, 4670.00it/s]\n"
     ]
    },
    {
     "name": "stdout",
     "output_type": "stream",
     "text": [
      "C:\\Users\\rutai\\OneDrive\\Documents\\sakaori_data\\2020_35_50.csv\n"
     ]
    },
    {
     "name": "stderr",
     "output_type": "stream",
     "text": [
      "2577568it [05:40, 7578.80it/s]\n",
      "2577568it [05:17, 8128.31it/s]\n",
      "2577568it [05:22, 8002.30it/s]\n",
      "2577568it [09:12, 4665.72it/s]\n"
     ]
    },
    {
     "name": "stdout",
     "output_type": "stream",
     "text": [
      "C:\\Users\\rutai\\OneDrive\\Documents\\sakaori_data\\2020_50_65.csv\n"
     ]
    },
    {
     "name": "stderr",
     "output_type": "stream",
     "text": [
      "1835770it [04:03, 7533.93it/s]\n",
      "1835770it [03:45, 8129.23it/s]\n",
      "1835770it [03:45, 8136.81it/s]\n",
      "1835770it [06:40, 4582.79it/s]\n"
     ]
    },
    {
     "name": "stdout",
     "output_type": "stream",
     "text": [
      "C:\\Users\\rutai\\OneDrive\\Documents\\sakaori_data\\2020_65_80.csv\n"
     ]
    },
    {
     "name": "stderr",
     "output_type": "stream",
     "text": [
      "1065458it [02:42, 6555.42it/s]\n",
      "1065458it [02:14, 7898.44it/s]\n",
      "1065458it [02:10, 8143.84it/s]\n",
      "1065458it [03:46, 4702.26it/s]\n"
     ]
    },
    {
     "name": "stdout",
     "output_type": "stream",
     "text": [
      "C:\\Users\\rutai\\OneDrive\\Documents\\sakaori_data\\ver2_2019_20_35.csv\n"
     ]
    },
    {
     "name": "stderr",
     "output_type": "stream",
     "text": [
      "0it [00:00, ?it/s]\n"
     ]
    },
    {
     "ename": "KeyError",
     "evalue": "'genre_name_all'",
     "output_type": "error",
     "traceback": [
      "\u001b[1;31m---------------------------------------------------------------------------\u001b[0m",
      "\u001b[1;31mKeyError\u001b[0m                                  Traceback (most recent call last)",
      "File \u001b[1;32mc:\\Users\\rutai\\anaconda3\\envs\\itomond\\lib\\site-packages\\pandas\\core\\indexes\\base.py:3621\u001b[0m, in \u001b[0;36mIndex.get_loc\u001b[1;34m(self, key, method, tolerance)\u001b[0m\n\u001b[0;32m   3620\u001b[0m \u001b[39mtry\u001b[39;00m:\n\u001b[1;32m-> 3621\u001b[0m     \u001b[39mreturn\u001b[39;00m \u001b[39mself\u001b[39;49m\u001b[39m.\u001b[39;49m_engine\u001b[39m.\u001b[39;49mget_loc(casted_key)\n\u001b[0;32m   3622\u001b[0m \u001b[39mexcept\u001b[39;00m \u001b[39mKeyError\u001b[39;00m \u001b[39mas\u001b[39;00m err:\n",
      "File \u001b[1;32mc:\\Users\\rutai\\anaconda3\\envs\\itomond\\lib\\site-packages\\pandas\\_libs\\index.pyx:136\u001b[0m, in \u001b[0;36mpandas._libs.index.IndexEngine.get_loc\u001b[1;34m()\u001b[0m\n",
      "File \u001b[1;32mc:\\Users\\rutai\\anaconda3\\envs\\itomond\\lib\\site-packages\\pandas\\_libs\\index.pyx:163\u001b[0m, in \u001b[0;36mpandas._libs.index.IndexEngine.get_loc\u001b[1;34m()\u001b[0m\n",
      "File \u001b[1;32mpandas\\_libs\\hashtable_class_helper.pxi:5198\u001b[0m, in \u001b[0;36mpandas._libs.hashtable.PyObjectHashTable.get_item\u001b[1;34m()\u001b[0m\n",
      "File \u001b[1;32mpandas\\_libs\\hashtable_class_helper.pxi:5206\u001b[0m, in \u001b[0;36mpandas._libs.hashtable.PyObjectHashTable.get_item\u001b[1;34m()\u001b[0m\n",
      "\u001b[1;31mKeyError\u001b[0m: 'genre_name_all'",
      "\nThe above exception was the direct cause of the following exception:\n",
      "\u001b[1;31mKeyError\u001b[0m                                  Traceback (most recent call last)",
      "\u001b[1;32mセル6 を c:\\Users\\rutai\\OneDrive\\Documents\\GitHub\\Competition\\ECsite\\make_data_private.ipynb\u001b[0m in \u001b[0;36m<cell line: 2>\u001b[1;34m()\u001b[0m\n\u001b[0;32m      <a href='vscode-notebook-cell:/c%3A/Users/rutai/OneDrive/Documents/GitHub/Competition/ECsite/make_data_private.ipynb#W5sZmlsZQ%3D%3D?line=1'>2</a>\u001b[0m \u001b[39mfor\u001b[39;00m f \u001b[39min\u001b[39;00m file_list:\n\u001b[0;32m      <a href='vscode-notebook-cell:/c%3A/Users/rutai/OneDrive/Documents/GitHub/Competition/ECsite/make_data_private.ipynb#W5sZmlsZQ%3D%3D?line=2'>3</a>\u001b[0m     \u001b[39mprint\u001b[39m(f)\n\u001b[1;32m----> <a href='vscode-notebook-cell:/c%3A/Users/rutai/OneDrive/Documents/GitHub/Competition/ECsite/make_data_private.ipynb#W5sZmlsZQ%3D%3D?line=3'>4</a>\u001b[0m     make_data(f)\n",
      "\u001b[1;32mセル6 を c:\\Users\\rutai\\OneDrive\\Documents\\GitHub\\Competition\\ECsite\\make_data_private.ipynb\u001b[0m in \u001b[0;36mmake_data\u001b[1;34m(path)\u001b[0m\n\u001b[0;32m      <a href='vscode-notebook-cell:/c%3A/Users/rutai/OneDrive/Documents/GitHub/Competition/ECsite/make_data_private.ipynb#W5sZmlsZQ%3D%3D?line=0'>1</a>\u001b[0m \u001b[39mdef\u001b[39;00m \u001b[39mmake_data\u001b[39m(path):\n\u001b[0;32m      <a href='vscode-notebook-cell:/c%3A/Users/rutai/OneDrive/Documents/GitHub/Competition/ECsite/make_data_private.ipynb#W5sZmlsZQ%3D%3D?line=1'>2</a>\u001b[0m     df \u001b[39m=\u001b[39m pd\u001b[39m.\u001b[39mread_csv(path)\n\u001b[1;32m----> <a href='vscode-notebook-cell:/c%3A/Users/rutai/OneDrive/Documents/GitHub/Competition/ECsite/make_data_private.ipynb#W5sZmlsZQ%3D%3D?line=2'>3</a>\u001b[0m     df \u001b[39m=\u001b[39m make_genre(df)\n\u001b[0;32m      <a href='vscode-notebook-cell:/c%3A/Users/rutai/OneDrive/Documents/GitHub/Competition/ECsite/make_data_private.ipynb#W5sZmlsZQ%3D%3D?line=3'>4</a>\u001b[0m     df \u001b[39m=\u001b[39m make_age(df)\n\u001b[0;32m      <a href='vscode-notebook-cell:/c%3A/Users/rutai/OneDrive/Documents/GitHub/Competition/ECsite/make_data_private.ipynb#W5sZmlsZQ%3D%3D?line=4'>5</a>\u001b[0m     df \u001b[39m=\u001b[39m make_price(df)\n",
      "\u001b[1;32mセル6 を c:\\Users\\rutai\\OneDrive\\Documents\\GitHub\\Competition\\ECsite\\make_data_private.ipynb\u001b[0m in \u001b[0;36mmake_genre\u001b[1;34m(tmp_df)\u001b[0m\n\u001b[0;32m      <a href='vscode-notebook-cell:/c%3A/Users/rutai/OneDrive/Documents/GitHub/Competition/ECsite/make_data_private.ipynb#W5sZmlsZQ%3D%3D?line=1'>2</a>\u001b[0m \u001b[39m\"\"\" genreの作成 \"\"\"\u001b[39;00m\n\u001b[0;32m      <a href='vscode-notebook-cell:/c%3A/Users/rutai/OneDrive/Documents/GitHub/Competition/ECsite/make_data_private.ipynb#W5sZmlsZQ%3D%3D?line=2'>3</a>\u001b[0m \u001b[39mfor\u001b[39;00m index, data \u001b[39min\u001b[39;00m tqdm(tmp_df\u001b[39m.\u001b[39miterrows()):\n\u001b[1;32m----> <a href='vscode-notebook-cell:/c%3A/Users/rutai/OneDrive/Documents/GitHub/Competition/ECsite/make_data_private.ipynb#W5sZmlsZQ%3D%3D?line=3'>4</a>\u001b[0m   genre_list \u001b[39m=\u001b[39m data[\u001b[39m\"\u001b[39;49m\u001b[39mgenre_name_all\u001b[39;49m\u001b[39m\"\u001b[39;49m]\u001b[39m.\u001b[39msplit(\u001b[39m\"\u001b[39m\u001b[39m>>\u001b[39m\u001b[39m\"\u001b[39m)\n\u001b[0;32m      <a href='vscode-notebook-cell:/c%3A/Users/rutai/OneDrive/Documents/GitHub/Competition/ECsite/make_data_private.ipynb#W5sZmlsZQ%3D%3D?line=4'>5</a>\u001b[0m   tmp_df\u001b[39m.\u001b[39mloc[index,\u001b[39mf\u001b[39m\u001b[39m\"\u001b[39m\u001b[39mgenre\u001b[39m\u001b[39m\"\u001b[39m] \u001b[39m=\u001b[39m genre_list[\u001b[39m0\u001b[39m]\n\u001b[0;32m      <a href='vscode-notebook-cell:/c%3A/Users/rutai/OneDrive/Documents/GitHub/Competition/ECsite/make_data_private.ipynb#W5sZmlsZQ%3D%3D?line=6'>7</a>\u001b[0m tmp_df \u001b[39m=\u001b[39m tmp_df\u001b[39m.\u001b[39mdrop([\u001b[39m\"\u001b[39m\u001b[39mgenre_name_all\u001b[39m\u001b[39m\"\u001b[39m],axis\u001b[39m=\u001b[39m\u001b[39m1\u001b[39m)\n",
      "File \u001b[1;32mc:\\Users\\rutai\\anaconda3\\envs\\itomond\\lib\\site-packages\\pandas\\core\\series.py:958\u001b[0m, in \u001b[0;36mSeries.__getitem__\u001b[1;34m(self, key)\u001b[0m\n\u001b[0;32m    955\u001b[0m     \u001b[39mreturn\u001b[39;00m \u001b[39mself\u001b[39m\u001b[39m.\u001b[39m_values[key]\n\u001b[0;32m    957\u001b[0m \u001b[39melif\u001b[39;00m key_is_scalar:\n\u001b[1;32m--> 958\u001b[0m     \u001b[39mreturn\u001b[39;00m \u001b[39mself\u001b[39;49m\u001b[39m.\u001b[39;49m_get_value(key)\n\u001b[0;32m    960\u001b[0m \u001b[39mif\u001b[39;00m is_hashable(key):\n\u001b[0;32m    961\u001b[0m     \u001b[39m# Otherwise index.get_value will raise InvalidIndexError\u001b[39;00m\n\u001b[0;32m    962\u001b[0m     \u001b[39mtry\u001b[39;00m:\n\u001b[0;32m    963\u001b[0m         \u001b[39m# For labels that don't resolve as scalars like tuples and frozensets\u001b[39;00m\n",
      "File \u001b[1;32mc:\\Users\\rutai\\anaconda3\\envs\\itomond\\lib\\site-packages\\pandas\\core\\series.py:1069\u001b[0m, in \u001b[0;36mSeries._get_value\u001b[1;34m(self, label, takeable)\u001b[0m\n\u001b[0;32m   1066\u001b[0m     \u001b[39mreturn\u001b[39;00m \u001b[39mself\u001b[39m\u001b[39m.\u001b[39m_values[label]\n\u001b[0;32m   1068\u001b[0m \u001b[39m# Similar to Index.get_value, but we do not fall back to positional\u001b[39;00m\n\u001b[1;32m-> 1069\u001b[0m loc \u001b[39m=\u001b[39m \u001b[39mself\u001b[39;49m\u001b[39m.\u001b[39;49mindex\u001b[39m.\u001b[39;49mget_loc(label)\n\u001b[0;32m   1070\u001b[0m \u001b[39mreturn\u001b[39;00m \u001b[39mself\u001b[39m\u001b[39m.\u001b[39mindex\u001b[39m.\u001b[39m_get_values_for_loc(\u001b[39mself\u001b[39m, loc, label)\n",
      "File \u001b[1;32mc:\\Users\\rutai\\anaconda3\\envs\\itomond\\lib\\site-packages\\pandas\\core\\indexes\\base.py:3623\u001b[0m, in \u001b[0;36mIndex.get_loc\u001b[1;34m(self, key, method, tolerance)\u001b[0m\n\u001b[0;32m   3621\u001b[0m     \u001b[39mreturn\u001b[39;00m \u001b[39mself\u001b[39m\u001b[39m.\u001b[39m_engine\u001b[39m.\u001b[39mget_loc(casted_key)\n\u001b[0;32m   3622\u001b[0m \u001b[39mexcept\u001b[39;00m \u001b[39mKeyError\u001b[39;00m \u001b[39mas\u001b[39;00m err:\n\u001b[1;32m-> 3623\u001b[0m     \u001b[39mraise\u001b[39;00m \u001b[39mKeyError\u001b[39;00m(key) \u001b[39mfrom\u001b[39;00m \u001b[39merr\u001b[39;00m\n\u001b[0;32m   3624\u001b[0m \u001b[39mexcept\u001b[39;00m \u001b[39mTypeError\u001b[39;00m:\n\u001b[0;32m   3625\u001b[0m     \u001b[39m# If we have a listlike key, _check_indexing_error will raise\u001b[39;00m\n\u001b[0;32m   3626\u001b[0m     \u001b[39m#  InvalidIndexError. Otherwise we fall through and re-raise\u001b[39;00m\n\u001b[0;32m   3627\u001b[0m     \u001b[39m#  the TypeError.\u001b[39;00m\n\u001b[0;32m   3628\u001b[0m     \u001b[39mself\u001b[39m\u001b[39m.\u001b[39m_check_indexing_error(key)\n",
      "\u001b[1;31mKeyError\u001b[0m: 'genre_name_all'"
     ]
    }
   ],
   "source": [
    "file_list = sorted(glob.glob(\"C:\\\\Users\\\\rutai\\\\OneDrive\\\\Documents\\\\sakaori_data\\\\*.csv\"))\n",
    "for f in file_list:\n",
    "    print(f)\n",
    "    make_data(f)"
   ]
  }
 ],
 "metadata": {
  "kernelspec": {
   "display_name": "Python 3.9.12 ('itomond')",
   "language": "python",
   "name": "python3"
  },
  "language_info": {
   "codemirror_mode": {
    "name": "ipython",
    "version": 3
   },
   "file_extension": ".py",
   "mimetype": "text/x-python",
   "name": "python",
   "nbconvert_exporter": "python",
   "pygments_lexer": "ipython3",
   "version": "3.9.0"
  },
  "orig_nbformat": 4,
  "vscode": {
   "interpreter": {
    "hash": "5a13b78b610cf201cf30240481ed79cfa432f79a86710be44289e35818a0ec89"
   }
  }
 },
 "nbformat": 4,
 "nbformat_minor": 2
}
