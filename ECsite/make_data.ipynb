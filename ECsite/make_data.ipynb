{
 "cells": [
  {
   "cell_type": "markdown",
   "metadata": {},
   "source": [
    "## ライブラリのインポート"
   ]
  },
  {
   "cell_type": "code",
   "execution_count": 1,
   "metadata": {},
   "outputs": [],
   "source": [
    "import pandas as pd\n",
    "import glob\n",
    "from tqdm import tqdm"
   ]
  },
  {
   "cell_type": "markdown",
   "metadata": {},
   "source": [
    "## データのダウンロード"
   ]
  },
  {
   "cell_type": "code",
   "execution_count": 2,
   "metadata": {},
   "outputs": [
    {
     "name": "stdout",
     "output_type": "stream",
     "text": [
      "C:\\Users\\rutai\\OneDrive\\Documents\\GitHub\\Data\\2019_20_35.csv\n",
      "C:\\Users\\rutai\\OneDrive\\Documents\\GitHub\\Data\\2019_35_50.csv\n",
      "C:\\Users\\rutai\\OneDrive\\Documents\\GitHub\\Data\\2019_50_65.csv\n",
      "C:\\Users\\rutai\\OneDrive\\Documents\\GitHub\\Data\\2019_65_80.csv\n",
      "C:\\Users\\rutai\\OneDrive\\Documents\\GitHub\\Data\\2020_20_35.csv\n",
      "C:\\Users\\rutai\\OneDrive\\Documents\\GitHub\\Data\\2020_35_50.csv\n",
      "C:\\Users\\rutai\\OneDrive\\Documents\\GitHub\\Data\\2020_50_65.csv\n",
      "C:\\Users\\rutai\\OneDrive\\Documents\\GitHub\\Data\\2020_65_80.csv\n"
     ]
    }
   ],
   "source": [
    "import pandas as pd\n",
    "\n",
    "\n",
    "# パスで指定したファイルの一覧をリスト形式で取得. （ここでは一階層下のtestファイル以下）\n",
    "csv_files = glob.glob('C:\\\\Users\\\\rutai\\\\OneDrive\\\\Documents\\\\GitHub\\\\Data\\\\*.csv')\n",
    "\n",
    "#読み込むファイルのリストを表示\n",
    "for a in csv_files:\n",
    "    print(a)\n",
    "\n",
    "#csvファイルの中身を追加していくリストを用意\n",
    "data_list = []\n",
    "\n",
    "#読み込むファイルのリストを走査\n",
    "for file in csv_files:\n",
    "    data_list.append(pd.read_csv(file))\n",
    "\n",
    "#リストを全て行方向に結合\n",
    "#axis=0:行方向に結合, sort\n",
    "test_ = pd.concat(data_list, axis=0, sort=True)"
   ]
  },
  {
   "cell_type": "code",
   "execution_count": 3,
   "metadata": {},
   "outputs": [
    {
     "data": {
      "text/html": [
       "<div>\n",
       "<style scoped>\n",
       "    .dataframe tbody tr th:only-of-type {\n",
       "        vertical-align: middle;\n",
       "    }\n",
       "\n",
       "    .dataframe tbody tr th {\n",
       "        vertical-align: top;\n",
       "    }\n",
       "\n",
       "    .dataframe thead th {\n",
       "        text-align: right;\n",
       "    }\n",
       "</style>\n",
       "<table border=\"1\" class=\"dataframe\">\n",
       "  <thead>\n",
       "    <tr style=\"text-align: right;\">\n",
       "      <th></th>\n",
       "      <th>genre_name_all</th>\n",
       "      <th>price</th>\n",
       "      <th>user_age</th>\n",
       "      <th>user_gender</th>\n",
       "      <th>user_region</th>\n",
       "      <th>week</th>\n",
       "    </tr>\n",
       "  </thead>\n",
       "  <tbody>\n",
       "    <tr>\n",
       "      <th>0</th>\n",
       "      <td>靴 &gt;&gt; レディース靴 &gt;&gt; スニーカー</td>\n",
       "      <td>(9000, 10000]</td>\n",
       "      <td>(20, 35]</td>\n",
       "      <td>f</td>\n",
       "      <td>中国</td>\n",
       "      <td>1</td>\n",
       "    </tr>\n",
       "    <tr>\n",
       "      <th>1</th>\n",
       "      <td>キッズ・ベビー・マタニティ &gt;&gt; キッズファッション &gt;&gt; 靴</td>\n",
       "      <td>(4000, 5000]</td>\n",
       "      <td>(20, 35]</td>\n",
       "      <td>f</td>\n",
       "      <td>中部</td>\n",
       "      <td>1</td>\n",
       "    </tr>\n",
       "    <tr>\n",
       "      <th>2</th>\n",
       "      <td>バッグ・小物・ブランド雑貨 &gt;&gt; 財布・ケース &gt;&gt; キーホルダー・キーケース</td>\n",
       "      <td>(30000, 40000]</td>\n",
       "      <td>(20, 35]</td>\n",
       "      <td>m</td>\n",
       "      <td>関東</td>\n",
       "      <td>1</td>\n",
       "    </tr>\n",
       "    <tr>\n",
       "      <th>3</th>\n",
       "      <td>ホビー &gt;&gt; コスプレ・変装・仮装 &gt;&gt; コスチューム一式</td>\n",
       "      <td>(2000, 3000]</td>\n",
       "      <td>(20, 35]</td>\n",
       "      <td>m</td>\n",
       "      <td>関東</td>\n",
       "      <td>1</td>\n",
       "    </tr>\n",
       "    <tr>\n",
       "      <th>4</th>\n",
       "      <td>美容・コスメ・香水 &gt;&gt; ベースメイク・メイクアップ &gt;&gt; ファンデーション</td>\n",
       "      <td>(5000, 6000]</td>\n",
       "      <td>(20, 35]</td>\n",
       "      <td>f</td>\n",
       "      <td>中部</td>\n",
       "      <td>1</td>\n",
       "    </tr>\n",
       "    <tr>\n",
       "      <th>...</th>\n",
       "      <td>...</td>\n",
       "      <td>...</td>\n",
       "      <td>...</td>\n",
       "      <td>...</td>\n",
       "      <td>...</td>\n",
       "      <td>...</td>\n",
       "    </tr>\n",
       "    <tr>\n",
       "      <th>1065453</th>\n",
       "      <td>医薬品・コンタクト・介護 &gt;&gt; 医薬品・医薬部外品 &gt;&gt; 医薬品</td>\n",
       "      <td>(2000, 3000]</td>\n",
       "      <td>(65, 80]</td>\n",
       "      <td>f</td>\n",
       "      <td>中国</td>\n",
       "      <td>53</td>\n",
       "    </tr>\n",
       "    <tr>\n",
       "      <th>1065454</th>\n",
       "      <td>バッグ・小物・ブランド雑貨 &gt;&gt; 眼鏡・サングラス &gt;&gt; 老眼鏡</td>\n",
       "      <td>(10000, 20000]</td>\n",
       "      <td>(65, 80]</td>\n",
       "      <td>m</td>\n",
       "      <td>中部</td>\n",
       "      <td>53</td>\n",
       "    </tr>\n",
       "    <tr>\n",
       "      <th>1065455</th>\n",
       "      <td>水・ソフトドリンク &gt;&gt; 野菜・果実飲料</td>\n",
       "      <td>(4000, 5000]</td>\n",
       "      <td>(65, 80]</td>\n",
       "      <td>m</td>\n",
       "      <td>関東</td>\n",
       "      <td>53</td>\n",
       "    </tr>\n",
       "    <tr>\n",
       "      <th>1065456</th>\n",
       "      <td>インナー・下着・ナイトウェア &gt;&gt; レディース &gt;&gt; インナー・下着・ランジェリー</td>\n",
       "      <td>(2000, 3000]</td>\n",
       "      <td>(65, 80]</td>\n",
       "      <td>m</td>\n",
       "      <td>近畿</td>\n",
       "      <td>53</td>\n",
       "    </tr>\n",
       "    <tr>\n",
       "      <th>1065457</th>\n",
       "      <td>ビール・洋酒 &gt;&gt; ワイン &gt;&gt; 赤ワイン</td>\n",
       "      <td>(3000, 4000]</td>\n",
       "      <td>(65, 80]</td>\n",
       "      <td>m</td>\n",
       "      <td>関東</td>\n",
       "      <td>53</td>\n",
       "    </tr>\n",
       "  </tbody>\n",
       "</table>\n",
       "<p>12888912 rows × 6 columns</p>\n",
       "</div>"
      ],
      "text/plain": [
       "                                    genre_name_all           price  user_age  \\\n",
       "0                             靴 >> レディース靴 >> スニーカー   (9000, 10000]  (20, 35]   \n",
       "1                  キッズ・ベビー・マタニティ >> キッズファッション >> 靴    (4000, 5000]  (20, 35]   \n",
       "2          バッグ・小物・ブランド雑貨 >> 財布・ケース >> キーホルダー・キーケース  (30000, 40000]  (20, 35]   \n",
       "3                    ホビー >> コスプレ・変装・仮装 >> コスチューム一式    (2000, 3000]  (20, 35]   \n",
       "4           美容・コスメ・香水 >> ベースメイク・メイクアップ >> ファンデーション    (5000, 6000]  (20, 35]   \n",
       "...                                            ...             ...       ...   \n",
       "1065453           医薬品・コンタクト・介護 >> 医薬品・医薬部外品 >> 医薬品    (2000, 3000]  (65, 80]   \n",
       "1065454           バッグ・小物・ブランド雑貨 >> 眼鏡・サングラス >> 老眼鏡  (10000, 20000]  (65, 80]   \n",
       "1065455                       水・ソフトドリンク >> 野菜・果実飲料    (4000, 5000]  (65, 80]   \n",
       "1065456  インナー・下着・ナイトウェア >> レディース >> インナー・下着・ランジェリー    (2000, 3000]  (65, 80]   \n",
       "1065457                      ビール・洋酒 >> ワイン >> 赤ワイン    (3000, 4000]  (65, 80]   \n",
       "\n",
       "        user_gender user_region  week  \n",
       "0                 f          中国     1  \n",
       "1                 f          中部     1  \n",
       "2                 m          関東     1  \n",
       "3                 m          関東     1  \n",
       "4                 f          中部     1  \n",
       "...             ...         ...   ...  \n",
       "1065453           f          中国    53  \n",
       "1065454           m          中部    53  \n",
       "1065455           m          関東    53  \n",
       "1065456           m          近畿    53  \n",
       "1065457           m          関東    53  \n",
       "\n",
       "[12888912 rows x 6 columns]"
      ]
     },
     "execution_count": 3,
     "metadata": {},
     "output_type": "execute_result"
    }
   ],
   "source": [
    "test_"
   ]
  },
  {
   "cell_type": "markdown",
   "metadata": {},
   "source": [
    "## 特徴量エンジニアリング"
   ]
  },
  {
   "cell_type": "markdown",
   "metadata": {},
   "source": [
    "### データの作成"
   ]
  },
  {
   "cell_type": "code",
   "execution_count": 4,
   "metadata": {},
   "outputs": [
    {
     "name": "stderr",
     "output_type": "stream",
     "text": [
      "43610it [1:44:02,  5.62it/s]"
     ]
    }
   ],
   "source": [
    "for index, data in tqdm(test_.iterrows()):\n",
    "  \"\"\" ageの作成 \"\"\"\n",
    "  age_num = data[\"user_age\"][1:-1].split(\",\")\n",
    "  test_.loc[index,\"age\"] = (int(age_num[0])+int(age_num[1]))/2\n",
    "\n",
    "  \"\"\" 価格の作成 \"\"\"\n",
    "  price_num = data[\"price\"][1:-1].split(\",\")\n",
    "  test_.loc[index,\"new_price\"] = (int(price_num[0])+int(price_num[1]))/2\n",
    "\n",
    "  \"\"\" genreの作成 \"\"\"\n",
    "  genre_list = data[\"genre_name_all\"].split(\">>\")\n",
    "  for idx, genre in enumerate(genre_list):\n",
    "    test_.loc[index,f\"genre_{idx}\"] = genre_list[idx]\n",
    "\n",
    "  \"\"\" pseudo lon(経度), lat(緯度) の作成\"\"\"\n",
    "  if data[\"user_region\"] == \"北海道\": # 北海道の緯度経度\n",
    "    test_.loc[index,f\"pseudo_lat\"], test_.loc[index,f\"pseudo_lon\"] = 43.06417,141.34694\n",
    "\n",
    "  elif data[\"user_region\"] == \"東北\": # 宮城の緯度経度\n",
    "    test_.loc[index,f\"pseudo_lat\"], test_.loc[index,f\"pseudo_lon\"] = 38.26889,140.87194\n",
    "\n",
    "  elif data[\"user_region\"] == \"関東\": # 東京の緯度経度\n",
    "    test_.loc[index,f\"pseudo_lat\"], test_.loc[index,f\"pseudo_lon\"] = 35.68944,139.69167\n",
    "\n",
    "  elif data[\"user_region\"] == \"中部\": # 名古屋の緯度経度\n",
    "    test_.loc[index,f\"pseudo_lat\"], test_.loc[index,f\"pseudo_lon\"] = 35.18028,136.90667\n",
    "\n",
    "  elif data[\"user_region\"] == \"近畿\": # 大阪の緯度経度\n",
    "    test_.loc[index,f\"pseudo_lat\"], test_.loc[index,f\"pseudo_lon\"] = 34.68639,135.52\n",
    "\n",
    "  elif data[\"user_region\"] == \"中国\": # 広島の緯度経度\n",
    "    test_.loc[index,f\"pseudo_lat\"], test_.loc[index,f\"pseudo_lon\"] = 34.39639,132.45944\n",
    "\n",
    "  elif data[\"user_region\"] == \"四国\": # 愛媛の緯度経度\n",
    "    test_.loc[index,f\"pseudo_lat\"], test_.loc[index,f\"pseudo_lon\"] = 33.84167,132.76611\n",
    "\n",
    "  elif data[\"user_region\"] == \"九州\": # 福岡の緯度経度\n",
    "    test_.loc[index,f\"pseudo_lat\"], test_.loc[index,f\"pseudo_lon\"] = 33.60639,130.41806\n"
   ]
  },
  {
   "cell_type": "markdown",
   "metadata": {},
   "source": [
    "### データの変換"
   ]
  },
  {
   "cell_type": "code",
   "execution_count": null,
   "metadata": {},
   "outputs": [],
   "source": [
    "\"\"\"frequency encodeの作成\"\"\"\n",
    "for col in [\"use_gender\", \"user_age\", \"user_region\", \"price\", \"genre_name_all\"]:\n",
    "    enc_nom_1 = (test_.groupby(col).size())/len(test_)\n",
    "    test_[f'{col}_freq'] = test_[col].apply(lambda x : enc_nom_1[x])\n",
    "    \n",
    "\"\"\"one-hot encodeの作成\"\"\"\n",
    "test_ = pd.get_dummies(test_)"
   ]
  },
  {
   "cell_type": "markdown",
   "metadata": {},
   "source": [
    "## メモリの削減"
   ]
  },
  {
   "cell_type": "code",
   "execution_count": null,
   "metadata": {},
   "outputs": [],
   "source": [
    "def reduce_mem_usage(df):\n",
    "    \"\"\" メモリ削減 する関数\n",
    "    \n",
    "    Args:\n",
    "        df(DataFrame) : データベース\n",
    "\n",
    "    Return:\n",
    "        df(DataFrame) : 加工したデータベース\n",
    "\n",
    "    \"\"\"\n",
    "\n",
    "    # float64 と float32 のデータタイプを float16 に加工\n",
    "    cols1 = list(df.dtypes[df.dtypes == 'float64'].index) + list(df.dtypes[df.dtypes == 'float32'].index) \n",
    "    for col in tqdm(cols1):\n",
    "        df[col] = df[col].astype(np.float16)\n",
    "\n",
    "    # int64, int32, int16 のデータタイプを int8 に加工 \n",
    "    cols2 = list(df.dtypes[df.dtypes == 'int64'].index) + list(df.dtypes[df.dtypes == 'int32'].index)+ list(df.dtypes[df.dtypes == 'int16'].index)\n",
    "    for col in tqdm(cols2):\n",
    "        df[col] = df[col].astype(np.int8)\n",
    "\n",
    "    return df"
   ]
  },
  {
   "cell_type": "code",
   "execution_count": null,
   "metadata": {},
   "outputs": [],
   "source": [
    "test_ = reduce_mem_usage(test_)"
   ]
  },
  {
   "cell_type": "markdown",
   "metadata": {},
   "source": [
    "## データを保存"
   ]
  },
  {
   "cell_type": "code",
   "execution_count": null,
   "metadata": {},
   "outputs": [],
   "source": [
    "test_.to_csv(\"data_all.csv\", index=False)"
   ]
  }
 ],
 "metadata": {
  "kernelspec": {
   "display_name": "Python 3.9.0 ('itomond')",
   "language": "python",
   "name": "python3"
  },
  "language_info": {
   "codemirror_mode": {
    "name": "ipython",
    "version": 3
   },
   "file_extension": ".py",
   "mimetype": "text/x-python",
   "name": "python",
   "nbconvert_exporter": "python",
   "pygments_lexer": "ipython3",
   "version": "3.9.12"
  },
  "orig_nbformat": 4,
  "vscode": {
   "interpreter": {
    "hash": "5a13b78b610cf201cf30240481ed79cfa432f79a86710be44289e35818a0ec89"
   }
  }
 },
 "nbformat": 4,
 "nbformat_minor": 2
}
