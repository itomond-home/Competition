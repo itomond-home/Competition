{
 "cells": [
  {
   "cell_type": "markdown",
   "metadata": {},
   "source": [
    "## ライブラリのインポート"
   ]
  },
  {
   "cell_type": "code",
   "execution_count": 2,
   "metadata": {},
   "outputs": [],
   "source": [
    "import pandas as pd\n",
    "import glob\n",
    "from tqdm import tqdm"
   ]
  },
  {
   "cell_type": "markdown",
   "metadata": {},
   "source": [
    "## データのダウンロード"
   ]
  },
  {
   "cell_type": "code",
   "execution_count": 3,
   "metadata": {},
   "outputs": [
    {
     "name": "stdout",
     "output_type": "stream",
     "text": [
      "C:\\Users\\rutai\\OneDrive\\Documents\\GitHub\\Data\\2019_20_35.csv\n",
      "C:\\Users\\rutai\\OneDrive\\Documents\\GitHub\\Data\\2019_35_50.csv\n",
      "C:\\Users\\rutai\\OneDrive\\Documents\\GitHub\\Data\\2019_50_65.csv\n",
      "C:\\Users\\rutai\\OneDrive\\Documents\\GitHub\\Data\\2019_65_80.csv\n",
      "C:\\Users\\rutai\\OneDrive\\Documents\\GitHub\\Data\\2020_20_35.csv\n",
      "C:\\Users\\rutai\\OneDrive\\Documents\\GitHub\\Data\\2020_35_50.csv\n",
      "C:\\Users\\rutai\\OneDrive\\Documents\\GitHub\\Data\\2020_50_65.csv\n",
      "C:\\Users\\rutai\\OneDrive\\Documents\\GitHub\\Data\\2020_65_80.csv\n"
     ]
    }
   ],
   "source": [
    "import pandas as pd\n",
    "\n",
    "\n",
    "# パスで指定したファイルの一覧をリスト形式で取得. （ここでは一階層下のtestファイル以下）\n",
    "csv_files = glob.glob('C:\\\\Users\\\\rutai\\\\OneDrive\\\\Documents\\\\GitHub\\\\Data\\\\*.csv')\n",
    "\n",
    "#読み込むファイルのリストを表示\n",
    "for a in csv_files:\n",
    "    print(a)\n",
    "\n",
    "#csvファイルの中身を追加していくリストを用意\n",
    "data_list = []\n",
    "\n",
    "#読み込むファイルのリストを走査\n",
    "for file in csv_files:\n",
    "    data_list.append(pd.read_csv(file))\n",
    "\n",
    "#リストを全て行方向に結合\n",
    "#axis=0:行方向に結合, sort\n",
    "test_ = pd.concat(data_list, axis=0, sort=True)"
   ]
  },
  {
   "cell_type": "markdown",
   "metadata": {},
   "source": [
    "## 特徴量エンジニアリング"
   ]
  },
  {
   "cell_type": "markdown",
   "metadata": {},
   "source": [
    "### データの作成"
   ]
  },
  {
   "cell_type": "code",
   "execution_count": 4,
   "metadata": {},
   "outputs": [
    {
     "name": "stderr",
     "output_type": "stream",
     "text": [
      "43610it [1:44:02,  5.62it/s]"
     ]
    }
   ],
   "source": [
    "for index, data in tqdm(test_.iterrows()):\n",
    "  \"\"\" ageの作成 \"\"\"\n",
    "  age_num = data[\"user_age\"][1:-1].split(\",\")\n",
    "  test_.loc[index,\"age\"] = (int(age_num[0])+int(age_num[1]))/2\n",
    "\n",
    "  \"\"\" 価格の作成 \"\"\"\n",
    "  price_num = data[\"price\"][1:-1].split(\",\")\n",
    "  test_.loc[index,\"new_price\"] = (int(price_num[0])+int(price_num[1]))/2\n",
    "\n",
    "  \"\"\" genreの作成 \"\"\"\n",
    "  genre_list = data[\"genre_name_all\"].split(\">>\")\n",
    "  for idx, genre in enumerate(genre_list):\n",
    "    test_.loc[index,f\"genre_{idx}\"] = genre_list[idx]\n",
    "\n",
    "  \"\"\" pseudo lon(経度), lat(緯度) の作成\"\"\"\n",
    "  if data[\"user_region\"] == \"北海道\": # 北海道の緯度経度\n",
    "    test_.loc[index,f\"pseudo_lat\"], test_.loc[index,f\"pseudo_lon\"] = 43.06417,141.34694\n",
    "\n",
    "  elif data[\"user_region\"] == \"東北\": # 宮城の緯度経度\n",
    "    test_.loc[index,f\"pseudo_lat\"], test_.loc[index,f\"pseudo_lon\"] = 38.26889,140.87194\n",
    "\n",
    "  elif data[\"user_region\"] == \"関東\": # 東京の緯度経度\n",
    "    test_.loc[index,f\"pseudo_lat\"], test_.loc[index,f\"pseudo_lon\"] = 35.68944,139.69167\n",
    "\n",
    "  elif data[\"user_region\"] == \"中部\": # 名古屋の緯度経度\n",
    "    test_.loc[index,f\"pseudo_lat\"], test_.loc[index,f\"pseudo_lon\"] = 35.18028,136.90667\n",
    "\n",
    "  elif data[\"user_region\"] == \"近畿\": # 大阪の緯度経度\n",
    "    test_.loc[index,f\"pseudo_lat\"], test_.loc[index,f\"pseudo_lon\"] = 34.68639,135.52\n",
    "\n",
    "  elif data[\"user_region\"] == \"中国\": # 広島の緯度経度\n",
    "    test_.loc[index,f\"pseudo_lat\"], test_.loc[index,f\"pseudo_lon\"] = 34.39639,132.45944\n",
    "\n",
    "  elif data[\"user_region\"] == \"四国\": # 愛媛の緯度経度\n",
    "    test_.loc[index,f\"pseudo_lat\"], test_.loc[index,f\"pseudo_lon\"] = 33.84167,132.76611\n",
    "\n",
    "  elif data[\"user_region\"] == \"九州\": # 福岡の緯度経度\n",
    "    test_.loc[index,f\"pseudo_lat\"], test_.loc[index,f\"pseudo_lon\"] = 33.60639,130.41806\n"
   ]
  },
  {
   "cell_type": "markdown",
   "metadata": {},
   "source": [
    "### データの変換"
   ]
  },
  {
   "cell_type": "code",
   "execution_count": null,
   "metadata": {},
   "outputs": [],
   "source": [
    "\"\"\"frequency encodeの作成\"\"\"\n",
    "for col in [\"use_gender\", \"user_age\", \"user_region\", \"price\", \"genre_name_all\"]:\n",
    "    enc_nom_1 = (test_.groupby(col).size())/len(test_)\n",
    "    test_[f'{col}_freq'] = test_[col].apply(lambda x : enc_nom_1[x])\n",
    "    \n",
    "\"\"\"one-hot encodeの作成\"\"\"\n",
    "test_ = pd.get_dummies(test_)"
   ]
  },
  {
   "cell_type": "markdown",
   "metadata": {},
   "source": [
    "## メモリの削減"
   ]
  },
  {
   "cell_type": "code",
   "execution_count": null,
   "metadata": {},
   "outputs": [],
   "source": [
    "def reduce_mem_usage(df):\n",
    "    \"\"\" メモリ削減 する関数\n",
    "    \n",
    "    Args:\n",
    "        df(DataFrame) : データベース\n",
    "\n",
    "    Return:\n",
    "        df(DataFrame) : 加工したデータベース\n",
    "\n",
    "    \"\"\"\n",
    "\n",
    "    # float64 と float32 のデータタイプを float16 に加工\n",
    "    cols1 = list(df.dtypes[df.dtypes == 'float64'].index) + list(df.dtypes[df.dtypes == 'float32'].index) \n",
    "    for col in tqdm(cols1):\n",
    "        df[col] = df[col].astype(np.float16)\n",
    "\n",
    "    # int64, int32, int16 のデータタイプを int8 に加工 \n",
    "    cols2 = list(df.dtypes[df.dtypes == 'int64'].index) + list(df.dtypes[df.dtypes == 'int32'].index)+ list(df.dtypes[df.dtypes == 'int16'].index)\n",
    "    for col in tqdm(cols2):\n",
    "        df[col] = df[col].astype(np.int8)\n",
    "\n",
    "    return df"
   ]
  },
  {
   "cell_type": "code",
   "execution_count": null,
   "metadata": {},
   "outputs": [],
   "source": [
    "test_ = reduce_mem_usage(test_)"
   ]
  },
  {
   "cell_type": "markdown",
   "metadata": {},
   "source": [
    "## データを保存"
   ]
  },
  {
   "cell_type": "code",
   "execution_count": null,
   "metadata": {},
   "outputs": [],
   "source": [
    "test_.to_csv(\"data_all.csv\", index=False)"
   ]
  }
 ],
 "metadata": {
  "kernelspec": {
   "display_name": "Python 3.9.0 ('itomond')",
   "language": "python",
   "name": "python3"
  },
  "language_info": {
   "codemirror_mode": {
    "name": "ipython",
    "version": 3
   },
   "file_extension": ".py",
   "mimetype": "text/x-python",
   "name": "python",
   "nbconvert_exporter": "python",
   "pygments_lexer": "ipython3",
   "version": "3.9.12"
  },
  "orig_nbformat": 4,
  "vscode": {
   "interpreter": {
    "hash": "5a13b78b610cf201cf30240481ed79cfa432f79a86710be44289e35818a0ec89"
   }
  }
 },
 "nbformat": 4,
 "nbformat_minor": 2
}
