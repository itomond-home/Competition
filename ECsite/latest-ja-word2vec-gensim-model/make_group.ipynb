{
 "cells": [
  {
   "cell_type": "code",
   "execution_count": 1,
   "metadata": {},
   "outputs": [],
   "source": [
    "import gensim"
   ]
  },
  {
   "cell_type": "code",
   "execution_count": 3,
   "metadata": {},
   "outputs": [
    {
     "name": "stderr",
     "output_type": "stream",
     "text": [
      "c:\\Users\\rutai\\anaconda3\\envs\\word2vec\\lib\\site-packages\\gensim\\models\\base_any2vec.py:742: UserWarning: C extension not loaded, training will be slow. Install a C compiler and reinstall gensim for fast training.\n",
      "  warnings.warn(\n"
     ]
    }
   ],
   "source": [
    "# PATHは学習済みファイルの保存場所\n",
    "model = gensim.models.Word2Vec.load(\"word2vec.gensim.model\")"
   ]
  },
  {
   "cell_type": "code",
   "execution_count": 14,
   "metadata": {},
   "outputs": [
    {
     "name": "stdout",
     "output_type": "stream",
     "text": [
      "0.5967313\n",
      "0.5751909\n",
      "1.0\n"
     ]
    }
   ],
   "source": [
    "print(model.wv.similarity('バッグ', '雑貨'))\n",
    "print(model.wv.similarity('キッズ', 'ベビー'))\n",
    "print(model.wv.similarity('ベビー', 'ベビー'))"
   ]
  },
  {
   "cell_type": "code",
   "execution_count": 18,
   "metadata": {},
   "outputs": [
    {
     "data": {
      "text/plain": [
       "[('衣料', 0.9063187837600708),\n",
       " ('衣料品', 0.8751187324523926),\n",
       " ('子供服', 0.8719835877418518),\n",
       " ('婦人服', 0.8685290813446045),\n",
       " ('チェーン店', 0.8607656359672546),\n",
       " ('アパレル', 0.8479752540588379),\n",
       " ('アパレルメーカー', 0.8424087762832642),\n",
       " ('セレクトショップ', 0.8375011086463928),\n",
       " ('ブティック', 0.8350926041603088),\n",
       " ('家電', 0.8255904316902161)]"
      ]
     },
     "execution_count": 18,
     "metadata": {},
     "output_type": "execute_result"
    }
   ],
   "source": [
    "model.wv.most_similar(positive=['ブランド','雑貨',])"
   ]
  }
 ],
 "metadata": {
  "kernelspec": {
   "display_name": "Python 3.8.0 ('word2vec')",
   "language": "python",
   "name": "python3"
  },
  "language_info": {
   "codemirror_mode": {
    "name": "ipython",
    "version": 3
   },
   "file_extension": ".py",
   "mimetype": "text/x-python",
   "name": "python",
   "nbconvert_exporter": "python",
   "pygments_lexer": "ipython3",
   "version": "3.8.15"
  },
  "orig_nbformat": 4,
  "vscode": {
   "interpreter": {
    "hash": "6b9ed1e138f360c8df75257e28677aa75d7e648c24c80fb3f394c6b49bba9de3"
   }
  }
 },
 "nbformat": 4,
 "nbformat_minor": 2
}
